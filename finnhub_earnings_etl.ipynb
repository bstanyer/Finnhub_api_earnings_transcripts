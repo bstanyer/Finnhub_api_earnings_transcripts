{
 "cells": [
  {
   "cell_type": "code",
   "execution_count": 1,
   "id": "f019e529",
   "metadata": {},
   "outputs": [
    {
     "name": "stdout",
     "output_type": "stream",
     "text": [
      "Collecting finnhub-python\n",
      "  Obtaining dependency information for finnhub-python from https://files.pythonhosted.org/packages/ca/4c/f453b187319746a055a77b5a7b49b9d52ab6db91e14b72fa2f550d5b2d88/finnhub_python-2.4.22-py3-none-any.whl.metadata\n",
      "  Downloading finnhub_python-2.4.22-py3-none-any.whl.metadata (9.0 kB)\n",
      "Requirement already satisfied: requests>=2.22.0 in /Users/bstanyer/anaconda3/lib/python3.11/site-packages (from finnhub-python) (2.31.0)\n",
      "Requirement already satisfied: charset-normalizer<4,>=2 in /Users/bstanyer/anaconda3/lib/python3.11/site-packages (from requests>=2.22.0->finnhub-python) (2.0.4)\n",
      "Requirement already satisfied: idna<4,>=2.5 in /Users/bstanyer/anaconda3/lib/python3.11/site-packages (from requests>=2.22.0->finnhub-python) (3.4)\n",
      "Requirement already satisfied: urllib3<3,>=1.21.1 in /Users/bstanyer/anaconda3/lib/python3.11/site-packages (from requests>=2.22.0->finnhub-python) (1.26.16)\n",
      "Requirement already satisfied: certifi>=2017.4.17 in /Users/bstanyer/anaconda3/lib/python3.11/site-packages (from requests>=2.22.0->finnhub-python) (2024.7.4)\n",
      "Downloading finnhub_python-2.4.22-py3-none-any.whl (11 kB)\n",
      "Installing collected packages: finnhub-python\n",
      "Successfully installed finnhub-python-2.4.22\n",
      "Note: you may need to restart the kernel to use updated packages.\n"
     ]
    }
   ],
   "source": [
    "# pip install finnhub-python"
   ]
  },
  {
   "cell_type": "code",
   "execution_count": 3,
   "id": "f9efc03a",
   "metadata": {},
   "outputs": [
    {
     "name": "stdout",
     "output_type": "stream",
     "text": [
      "Requirement already satisfied: python-dotenv in /Users/bstanyer/anaconda3/lib/python3.11/site-packages (0.21.0)\n",
      "Note: you may need to restart the kernel to use updated packages.\n"
     ]
    }
   ],
   "source": [
    "pip install python-dotenv"
   ]
  },
  {
   "cell_type": "code",
   "execution_count": 13,
   "id": "9f4201fc",
   "metadata": {},
   "outputs": [],
   "source": [
    "# load packages\n",
    "import os\n",
    "import finnhub\n",
    "import json\n",
    "import pandas as pd"
   ]
  },
  {
   "cell_type": "code",
   "execution_count": 10,
   "id": "18940f4e",
   "metadata": {},
   "outputs": [],
   "source": [
    "# api import\n",
    "finnhub_demo_api_key = os.getenv('finnhub_demo_api_key')\n",
    "\n",
    "# client initialize\n",
    "finnhub_client = finnhub.Client(api_key=finnhub_demo_api_key)"
   ]
  },
  {
   "cell_type": "code",
   "execution_count": 12,
   "id": "c9f5e28e",
   "metadata": {},
   "outputs": [
    {
     "name": "stdout",
     "output_type": "stream",
     "text": [
      "{'symbol': 'AAPL', 'transcripts': [{'id': 'AAPL_3413908', 'quarter': 1, 'symbol': 'AAPL', 'time': '2025-01-30 22:01:04', 'title': 'AAPL - Earnings call Q1 2025', 'year': 2025}, {'id': 'AAPL_3405238', 'quarter': 4, 'symbol': 'AAPL', 'time': '2024-10-31 21:01:04', 'title': 'AAPL - Earnings call Q4 2024', 'year': 2024}, {'id': 'AAPL_3395798', 'quarter': 3, 'symbol': 'AAPL', 'time': '2024-08-01 21:01:04', 'title': 'AAPL - Earnings call Q3 2024', 'year': 2024}, {'id': 'AAPL_3382255', 'quarter': 2, 'symbol': 'AAPL', 'time': '2024-05-02 21:01:04', 'title': 'AAPL - Earnings call Q2 2024', 'year': 2024}, {'id': 'AAPL_3371668', 'quarter': 1, 'symbol': 'AAPL', 'time': '2024-02-01 22:01:04', 'title': 'AAPL - Earnings call 1 2024', 'year': 2024}, {'id': 'AAPL_3363748', 'quarter': 4, 'symbol': 'AAPL', 'time': '2023-11-02 21:01:04', 'title': 'AAPL - Earnings call 4 2023', 'year': 2023}, {'id': 'AAPL_3329602', 'quarter': 0, 'symbol': 'AAPL', 'time': '2023-09-19 15:01:04', 'title': 'Climate Week', 'year': 0}, {'id': 'AAPL_3307065', 'quarter': 3, 'symbol': 'AAPL', 'time': '2023-08-04 01:48:13', 'title': 'Earnings call Q3 2023', 'year': 2023}, {'id': 'AAPL_3385291', 'quarter': 3, 'symbol': 'AAPL', 'time': '2023-08-03 21:01:04', 'title': 'AAPL - Earnings call Q3 2023', 'year': 2023}, {'id': 'AAPL_3249303', 'quarter': 2, 'symbol': 'AAPL', 'time': '2023-05-04 17:01:04', 'title': 'Earnings call Q2 2023', 'year': 2023}, {'id': 'AAPL_3226627', 'quarter': 1, 'symbol': 'AAPL', 'time': '2023-02-02 17:01:04', 'title': 'Earnings call Q1 2023', 'year': 2023}, {'id': 'AAPL_1113753', 'quarter': 4, 'symbol': 'AAPL', 'time': '2022-10-27 17:01:04', 'title': 'AAPL - Earnings call Q4 2022', 'year': 2022}, {'id': 'AAPL_575614', 'quarter': 3, 'symbol': 'AAPL', 'time': '2022-07-28 17:01:04', 'title': 'AAPL - Earnings call Q3 2022', 'year': 2022}, {'id': 'AAPL_304366', 'quarter': 2, 'symbol': 'AAPL', 'time': '2022-04-28 17:01:04', 'title': 'AAPL - Earnings call Q2 2022', 'year': 2022}, {'id': 'AAPL_262537', 'quarter': 1, 'symbol': 'AAPL', 'time': '2022-01-28 01:20:09', 'title': 'AAPL - Earnings call Q1 2022', 'year': 2022}, {'id': 'AAPL_224972', 'quarter': 4, 'symbol': 'AAPL', 'time': '2021-10-29 01:26:09', 'title': 'AAPL - Earnings call Q4 2021', 'year': 2021}, {'id': 'AAPL_218414', 'quarter': 3, 'symbol': 'AAPL', 'time': '2021-07-28 03:14:09', 'title': 'AAPL - Earnings call Q3 2021', 'year': 2021}, {'id': 'AAPL_185565', 'quarter': 2, 'symbol': 'AAPL', 'time': '2021-04-29 01:18:15', 'title': 'AAPL - Earnings call Q2 2021', 'year': 2021}, {'id': 'AAPL_180784', 'quarter': 1, 'symbol': 'AAPL', 'time': '2021-01-28 01:49:07', 'title': 'AAPL - Earnings call Q1 2021', 'year': 2021}, {'id': 'AAPL_176494', 'quarter': 4, 'symbol': 'AAPL', 'time': '2020-10-29 17:01:04', 'title': 'AAPL - Earnings call Q4 2020', 'year': 2020}, {'id': 'AAPL_172043', 'quarter': 3, 'symbol': 'AAPL', 'time': '2020-07-31 03:36:08', 'title': 'AAPL - Earnings call Q3 2020', 'year': 2020}, {'id': 'AAPL_167615', 'quarter': 2, 'symbol': 'AAPL', 'time': '2020-04-30 17:01:04', 'title': 'AAPL - Earnings call Q2 2020', 'year': 2020}, {'id': 'AAPL_162777', 'quarter': 1, 'symbol': 'AAPL', 'time': '2020-01-29 02:36:45', 'title': 'AAPL - Earnings call Q1 2020', 'year': 2020}, {'id': 'AAPL_159265', 'quarter': 4, 'symbol': 'AAPL', 'time': '2019-10-31 02:28:09', 'title': 'AAPL - Earnings call Q4 2019', 'year': 2019}, {'id': 'AAPL_3288287', 'quarter': 0, 'symbol': 'AAPL', 'time': '2019-09-10 17:01:04', 'title': 'Special Call - Apple Inc.', 'year': 0}, {'id': 'AAPL_154798', 'quarter': 3, 'symbol': 'AAPL', 'time': '2019-07-31 02:27:12', 'title': 'AAPL - Earnings call Q3 2019', 'year': 2019}, {'id': 'AAPL_150423', 'quarter': 2, 'symbol': 'AAPL', 'time': '2019-04-30 23:55:13', 'title': 'AAPL - Earnings call Q2 2019', 'year': 2019}, {'id': 'AAPL_3288288', 'quarter': 0, 'symbol': 'AAPL', 'time': '2019-03-25 17:01:04', 'title': 'Special Call - Apple Inc.', 'year': 0}, {'id': 'AAPL_145443', 'quarter': 1, 'symbol': 'AAPL', 'time': '2019-01-30 02:06:07', 'title': 'Earnings call Q1 2019', 'year': 2019}, {'id': 'AAPL_142231', 'quarter': 4, 'symbol': 'AAPL', 'time': '2018-11-02 00:48:27', 'title': 'Earnings call Q4 2018', 'year': 2018}, {'id': 'AAPL_3288289', 'quarter': 0, 'symbol': 'AAPL', 'time': '2018-10-30 00:01:04', 'title': 'Special Call - Apple Inc.', 'year': 0}, {'id': 'AAPL_3288290', 'quarter': 0, 'symbol': 'AAPL', 'time': '2018-09-12 17:01:04', 'title': 'Special Call - Apple Inc.', 'year': 0}, {'id': 'AAPL_137550', 'quarter': 3, 'symbol': 'AAPL', 'time': '2018-08-01 00:40:13', 'title': 'Earnings call Q3 2018', 'year': 2018}, {'id': 'AAPL_133406', 'quarter': 2, 'symbol': 'AAPL', 'time': '2018-05-01 17:01:04', 'title': 'Earnings call Q2 2018', 'year': 2018}, {'id': 'AAPL_128850', 'quarter': 1, 'symbol': 'AAPL', 'time': '2018-02-01 17:01:04', 'title': 'Earnings call Q1 2018', 'year': 2018}, {'id': 'AAPL_125791', 'quarter': 4, 'symbol': 'AAPL', 'time': '2017-11-03 00:47:20', 'title': 'Earnings call Q4 2017', 'year': 2017}, {'id': 'AAPL_121172', 'quarter': 3, 'symbol': 'AAPL', 'time': '2017-08-02 00:17:06', 'title': 'Earnings call Q3 2017', 'year': 2017}, {'id': 'AAPL_116922', 'quarter': 2, 'symbol': 'AAPL', 'time': '2017-05-03 00:14:35', 'title': 'Earnings call Q2 2017', 'year': 2017}, {'id': 'AAPL_3288291', 'quarter': 0, 'symbol': 'AAPL', 'time': '2017-02-14 21:21:04', 'title': 'Goldman Sachs Technology and Internet Conference 2017', 'year': 0}, {'id': 'AAPL_111982', 'quarter': 1, 'symbol': 'AAPL', 'time': '2017-01-31 17:01:04', 'title': 'Earnings call Q1 2017', 'year': 2017}, {'id': 'AAPL_107733', 'quarter': 4, 'symbol': 'AAPL', 'time': '2016-10-26 01:36:31', 'title': 'Earnings call Q4 2016', 'year': 2016}, {'id': 'AAPL_103533', 'quarter': 3, 'symbol': 'AAPL', 'time': '2016-07-27 01:02:42', 'title': 'Earnings call Q3 2016', 'year': 2016}, {'id': 'AAPL_99318', 'quarter': 2, 'symbol': 'AAPL', 'time': '2016-04-27 00:28:18', 'title': 'Earnings call Q2 2016', 'year': 2016}, {'id': 'AAPL_94882', 'quarter': 1, 'symbol': 'AAPL', 'time': '2016-01-27 04:14:10', 'title': 'Earnings call Q1 2016', 'year': 2016}, {'id': 'AAPL_91150', 'quarter': 4, 'symbol': 'AAPL', 'time': '2015-10-28 03:00:07', 'title': 'Earnings call Q4 2015', 'year': 2015}, {'id': 'AAPL_86181', 'quarter': 3, 'symbol': 'AAPL', 'time': '2015-07-22 00:26:10', 'title': 'Earnings call Q3 2015', 'year': 2015}, {'id': 'AAPL_82491', 'quarter': 2, 'symbol': 'AAPL', 'time': '2015-04-28 00:49:08', 'title': 'Earnings call Q2 2015', 'year': 2015}, {'id': 'AAPL_3288292', 'quarter': 0, 'symbol': 'AAPL', 'time': '2015-02-10 20:31:04', 'title': 'The Goldman Sachs Technology & Internet Conference', 'year': 0}, {'id': 'AAPL_77847', 'quarter': 1, 'symbol': 'AAPL', 'time': '2015-01-28 01:39:08', 'title': 'Earnings call Q1 2015', 'year': 2015}, {'id': 'AAPL_73493', 'quarter': 4, 'symbol': 'AAPL', 'time': '2014-10-21 03:21:16', 'title': 'Earnings call Q4 2014', 'year': 2014}, {'id': 'AAPL_3288293', 'quarter': 0, 'symbol': 'AAPL', 'time': '2014-10-16 17:02:04', 'title': 'Special Call - Apple Inc.', 'year': 0}, {'id': 'AAPL_69396', 'quarter': 3, 'symbol': 'AAPL', 'time': '2014-07-22 05:01:04', 'title': 'Earnings call Q3 2014', 'year': 2014}, {'id': 'AAPL_66092', 'quarter': 2, 'symbol': 'AAPL', 'time': '2014-04-23 17:01:04', 'title': 'Earnings call Q2 2014', 'year': 2014}, {'id': 'AAPL_62287', 'quarter': 1, 'symbol': 'AAPL', 'time': '2014-01-28 01:34:06', 'title': 'Earnings call Q1 2014', 'year': 2014}, {'id': 'AAPL_58616', 'quarter': 4, 'symbol': 'AAPL', 'time': '2013-10-29 00:44:08', 'title': 'Earnings call Q4 2013', 'year': 2013}, {'id': 'AAPL_53630', 'quarter': 3, 'symbol': 'AAPL', 'time': '2013-07-23 23:39:06', 'title': 'Earnings call Q3 2013', 'year': 2013}, {'id': 'AAPL_48912', 'quarter': 2, 'symbol': 'AAPL', 'time': '2013-04-23 22:47:11', 'title': 'Earnings call Q2 2013', 'year': 2013}, {'id': 'AAPL_3288294', 'quarter': 0, 'symbol': 'AAPL', 'time': '2013-02-12 15:16:04', 'title': 'Goldman Sachs Technology & Internet Conference 2013', 'year': 0}, {'id': 'AAPL_44412', 'quarter': 1, 'symbol': 'AAPL', 'time': '2013-01-23 17:01:04', 'title': 'Earnings call Q1 2013', 'year': 2013}, {'id': 'AAPL_42150', 'quarter': 4, 'symbol': 'AAPL', 'time': '2012-10-26 01:34:07', 'title': 'Earnings call Q4 2012', 'year': 2012}, {'id': 'AAPL_39409', 'quarter': 3, 'symbol': 'AAPL', 'time': '2012-07-24 23:14:09', 'title': 'Earnings call Q3 2012', 'year': 2012}, {'id': 'AAPL_39023', 'quarter': -1, 'symbol': 'AAPL', 'time': '2012-06-12 20:10:07', 'title': \"Apple's CEO Presents at WWDC 2012 Keynote Address\", 'year': 2012}, {'id': 'AAPL_37605', 'quarter': 2, 'symbol': 'AAPL', 'time': '2012-04-25 01:11:08', 'title': 'Earnings call Q2 2012', 'year': 2012}, {'id': 'AAPL_37199', 'quarter': -1, 'symbol': 'AAPL', 'time': '2012-03-19 14:41:11', 'title': \"Apple's CEO Announces Plans to Initiate Dividend and Share Repurchase Program\", 'year': 2012}, {'id': 'AAPL_3288295', 'quarter': 0, 'symbol': 'AAPL', 'time': '2012-02-14 20:31:04', 'title': 'Goldman Sachs Technology and Internet Conference 2012', 'year': 0}, {'id': 'AAPL_35706', 'quarter': 1, 'symbol': 'AAPL', 'time': '2012-01-25 01:31:11', 'title': 'Earnings call Q1 2012', 'year': 2012}, {'id': 'AAPL_33807', 'quarter': 4, 'symbol': 'AAPL', 'time': '2011-10-19 02:11:15', 'title': 'Earnings call Q4 2011', 'year': 2011}, {'id': 'AAPL_32132', 'quarter': 3, 'symbol': 'AAPL', 'time': '2011-07-20 01:41:14', 'title': 'Earnings call Q3 2011', 'year': 2011}, {'id': 'AAPL_30993', 'quarter': 2, 'symbol': 'AAPL', 'time': '2011-04-21 02:01:26', 'title': 'Earnings call Q2 2011', 'year': 2011}, {'id': 'AAPL_29731', 'quarter': 1, 'symbol': 'AAPL', 'time': '2011-01-19 04:06:25', 'title': 'Earnings call Q1 2011', 'year': 2011}, {'id': 'AAPL_28315', 'quarter': 4, 'symbol': 'AAPL', 'time': '2010-10-19 00:43:24', 'title': 'Earnings call Q4 2010', 'year': 2010}, {'id': 'AAPL_26878', 'quarter': 3, 'symbol': 'AAPL', 'time': '2010-07-21 02:43:17', 'title': 'Earnings call Q3 2010', 'year': 2010}, {'id': 'AAPL_25168', 'quarter': 2, 'symbol': 'AAPL', 'time': '2010-04-21 00:57:13', 'title': 'Earnings call Q2 2010', 'year': 2010}, {'id': 'AAPL_23630', 'quarter': 1, 'symbol': 'AAPL', 'time': '2010-01-26 01:47:12', 'title': 'Earnings call Q1 2010', 'year': 2010}, {'id': 'AAPL_21909', 'quarter': 4, 'symbol': 'AAPL', 'time': '2009-10-19 21:19:11', 'title': 'Earnings call Q4 2009', 'year': 2009}, {'id': 'AAPL_20200', 'quarter': 3, 'symbol': 'AAPL', 'time': '2009-07-21 23:42:36', 'title': 'Earnings call Q3 2009', 'year': 2009}, {'id': 'AAPL_18577', 'quarter': 2, 'symbol': 'AAPL', 'time': '2009-04-23 07:06:39', 'title': 'Earnings call Q2 2009', 'year': 2009}, {'id': 'AAPL_15859', 'quarter': 1, 'symbol': 'AAPL', 'time': '2009-01-22 04:58:17', 'title': 'Earnings call Q1 2009', 'year': 2009}, {'id': 'AAPL_13260', 'quarter': 4, 'symbol': 'AAPL', 'time': '2008-10-21 23:59:26', 'title': 'Earnings call Q4 2008', 'year': 2008}, {'id': 'AAPL_10209', 'quarter': 3, 'symbol': 'AAPL', 'time': '2008-07-22 00:27:17', 'title': 'Earnings call Q3 2008', 'year': 2008}, {'id': 'AAPL_7771', 'quarter': 2, 'symbol': 'AAPL', 'time': '2008-04-23 17:01:04', 'title': 'Earnings call Q2 2008', 'year': 2008}, {'id': 'AAPL_4842', 'quarter': 1, 'symbol': 'AAPL', 'time': '2008-01-23 02:18:18', 'title': 'Earnings call Q1 2008', 'year': 2008}, {'id': 'AAPL_3318', 'quarter': 4, 'symbol': 'AAPL', 'time': '2007-10-22 17:01:04', 'title': 'Earnings call Q4 2007', 'year': 2007}, {'id': 'AAPL_2502', 'quarter': 3, 'symbol': 'AAPL', 'time': '2007-07-26 02:59:18', 'title': 'Earnings call Q3 2007', 'year': 2007}, {'id': 'AAPL_2003', 'quarter': 2, 'symbol': 'AAPL', 'time': '2007-04-26 02:50:27', 'title': 'Earnings call Q2 2007', 'year': 2007}, {'id': 'AAPL_1514', 'quarter': 1, 'symbol': 'AAPL', 'time': '2007-01-17 17:01:04', 'title': 'Earnings call Q1 2007', 'year': 2007}, {'id': 'AAPL_1178', 'quarter': 4, 'symbol': 'AAPL', 'time': '2006-10-18 17:01:04', 'title': 'Earnings call Q4 2006', 'year': 2006}, {'id': 'AAPL_822', 'quarter': 3, 'symbol': 'AAPL', 'time': '2006-07-19 17:01:04', 'title': 'Earnings call Q3 2006', 'year': 2006}, {'id': 'AAPL_465', 'quarter': 2, 'symbol': 'AAPL', 'time': '2006-04-20 11:01:29', 'title': 'Earnings call Q2 2006', 'year': 2006}, {'id': 'AAPL_98', 'quarter': 1, 'symbol': 'AAPL', 'time': '2006-01-19 13:53:17', 'title': 'Earnings call Q1 2006', 'year': 2006}]}\n"
     ]
    }
   ],
   "source": [
    "print(finnhub_client.transcripts_list('AAPL'))"
   ]
  },
  {
   "cell_type": "code",
   "execution_count": 18,
   "id": "3b2882dd",
   "metadata": {},
   "outputs": [
    {
     "name": "stdout",
     "output_type": "stream",
     "text": [
      "             id symbol  year  quarter                 time  \\\n",
      "0  AAPL_3413908   AAPL  2025        1  2025-01-30 22:01:04   \n",
      "1  AAPL_3405238   AAPL  2024        4  2024-10-31 21:01:04   \n",
      "2  AAPL_3395798   AAPL  2024        3  2024-08-01 21:01:04   \n",
      "3  AAPL_3382255   AAPL  2024        2  2024-05-02 21:01:04   \n",
      "4  AAPL_3371668   AAPL  2024        1  2024-02-01 22:01:04   \n",
      "5  AAPL_3363748   AAPL  2023        4  2023-11-02 21:01:04   \n",
      "6  AAPL_3329602   AAPL     0        0  2023-09-19 15:01:04   \n",
      "7  AAPL_3307065   AAPL  2023        3  2023-08-04 01:48:13   \n",
      "8  AAPL_3385291   AAPL  2023        3  2023-08-03 21:01:04   \n",
      "9  AAPL_3249303   AAPL  2023        2  2023-05-04 17:01:04   \n",
      "\n",
      "                          title  \n",
      "0  AAPL - Earnings call Q1 2025  \n",
      "1  AAPL - Earnings call Q4 2024  \n",
      "2  AAPL - Earnings call Q3 2024  \n",
      "3  AAPL - Earnings call Q2 2024  \n",
      "4   AAPL - Earnings call 1 2024  \n",
      "5   AAPL - Earnings call 4 2023  \n",
      "6                  Climate Week  \n",
      "7         Earnings call Q3 2023  \n",
      "8  AAPL - Earnings call Q3 2023  \n",
      "9         Earnings call Q2 2023  \n"
     ]
    }
   ],
   "source": [
    "# CHANGE SYMBOL COMPANY OF CHOICE\n",
    "# [\"AAPL\", \"TSLA\", \"WMT\", \"IBM\", \"GME\", \"NVDA\", \"MSFT\", \"XOM\", \"COIN\", \"HOOD\"]\n",
    "symbol = 'AAPL'\n",
    "\n",
    "# collects transcript list/metadata as json file\n",
    "transcripts_metadata = finnhub_client.transcripts_list(symbol)\n",
    "\n",
    "# converts entries to tabular format (dataframe)\n",
    "transcript_metadata_df = pd.DataFrame(transcripts_metadata['transcripts'], \n",
    "                                      columns=[\"id\", \"symbol\", \"year\", \"quarter\", \"time\", \"title\"])\n",
    "\n",
    "# Prints first 10 \n",
    "print(transcript_metadata_df[:10])"
   ]
  },
  {
   "cell_type": "code",
   "execution_count": 19,
   "id": "b918c439",
   "metadata": {},
   "outputs": [
    {
     "name": "stdout",
     "output_type": "stream",
     "text": [
      "{'audio': 'https://finnhub.io/api/redirect?urlType=transcripts-audio&id=AAPL_3413908', 'id': 'AAPL_3413908', 'participant': [{'name': 'Suhasini Chandramouli', 'description': 'executive', 'role': 'executive'}, {'name': 'Timothy Cook', 'description': 'executive', 'role': 'executive'}, {'name': 'Kevan Parekh', 'description': 'executive', 'role': 'executive'}, {'name': 'Erik Woodring', 'description': 'analyst', 'role': 'analyst'}, {'name': 'Benjamin Reitzes', 'description': 'analyst', 'role': 'analyst'}, {'name': 'Michael Ng', 'description': 'analyst', 'role': 'analyst'}, {'name': 'Amit Daryanani', 'description': 'analyst', 'role': 'analyst'}, {'name': 'Wamsi Mohan', 'description': 'analyst', 'role': 'analyst'}, {'name': 'Samik Chatterjee', 'description': 'analyst', 'role': 'analyst'}, {'name': 'David Vogt', 'description': 'analyst', 'role': 'analyst'}, {'name': 'Sreekrishnan Sankarnarayanan', 'description': 'analyst', 'role': 'analyst'}, {'name': 'Richard Kramer', 'description': 'analyst', 'role': 'analyst'}, {'name': 'Atif Malik', 'description': 'analyst', 'role': 'analyst'}, {'name': 'Benjamin Bollin', 'description': 'analyst', 'role': 'analyst'}], 'quarter': 1, 'symbol': 'AAPL', 'time': '2025-01-30 22:01:00', 'title': 'AAPL - Earnings call Q1 2025', 'transcript': [{'name': 'Suhasini Chandramouli', 'speech': [\"Good afternoon, and welcome to the Apple Q1 Fiscal Year 2025 Earnings Conference Call. My name is Suhasini Chandramouli, Director of Investor Relations. Today's call is being recorded. Speaking first today are Apple's CEO, Tim Cook. And he'll be followed by CFO, Kevan Parekh. After that, we'll open the call to questions from analysts.\\r\\nPlease note that some of the information you'll hear during our discussion today will consist of forward-looking statements, including, without limitation, those regarding revenue, gross margin, operating expenses, other income and expense, taxes, capital allocation and future business outlook, including the potential impact of macroeconomic conditions on the company's business and results of operations. These statements involve risks and uncertainties that may cause actual results or trends to differ materially from our forecast. For more information, please refer to the risk factors discussed in Apple's most recently filed annual report on Form 10-K and the Form 8-K filed with the SEC today, along with the associated press release. Apple assumes no obligation to update any forward-looking statements, which speak only as of the date they are made.\", \"I'd now like to turn the call over to Tim for introductory remarks.\"], 'session': 'management_discussion'}, {'name': 'Timothy Cook', 'speech': [\"Thank you, Suhasini. Good afternoon, everyone, and thanks for joining the call. Before I talk about our results, I'd like to take a moment to acknowledge the devastating wildfires that impacted the Los Angeles area this month. From our retail teams to Apple TV+, Apple Music, Fitness+, Beats and more, L.A. is home to many of our team members. Our thoughts are with everyone who is beginning the road to recovery. For our part, we are contributing to the relief efforts, and we will continue to support our teams and the local community.\", 'Now turning to the quarter. Today, Apple is reporting revenue of $124.3 billion for the December quarter, up 4% from a year ago and an all-time record. EPS also set an all-time record of $2.40, 10% higher year-over-year.', \"We achieved all-time revenue records across the majority of the countries and regions we track, including the Americas, Europe, Japan and the rest of Asia Pacific. We also continue to see momentum in emerging markets, setting all-time revenue records in a number of markets, including Latin America, the Middle East and South Asia, among others.\\r\\nIn Services, we achieved an all-time revenue record. And in the past year, we've seen nearly $100 billion in revenue from our Services business. I'm also pleased to announce that we reached a new record for our installed base with over 2.35 billion active devices.\\r\\nIn October, we released the first set of Apple Intelligence features in U.S. English for iPhone, iPad and Mac, and we rolled out more features and expanded to more countries in December. Now users can discover the benefits of these new features in the things they do every day. They can use Writing Tools to help find just the right words, create fun and unique images with Image Playground and Genmoji, handle daily tasks and seek out information with a more natural and conversational Siri, create movies of their memories with a simple prompt and touch up their photos with Clean Up.\\r\\nWe introduced visual intelligence with Camera Control to help users instantly learn about their surroundings. Users can also seamlessly access ChatGPT across iOS, iPadOS and macOS. And we were excited to recently begin our international expansion with Apple Intelligence now available in Australia, Canada, New Zealand, South Africa and the U.K.\", \"We're working hard to take Apple Intelligence even further. In April, we're bringing Apple Intelligence to more languages, including French, German, Italian, Portuguese, Spanish, Japanese, Korean and simplified Chinese as well as localized English to Singapore and India. And we'll continue to roll out more features in the future, including an even more capable Siri.\", \"Apple Intelligence builds on years of innovations we've made across hardware and software to transform how users experience our products. Apple Intelligence also empowers users by delivering personal context that's relevant to them. And importantly, Apple Intelligence is a breakthrough for privacy in AI with innovations like Private Cloud Compute, which extends the industry-leading security and privacy of Apple devices into the cloud.\", \"Apple Intelligence opens up an exciting new frontier and is already elevating experiences across iPhone, iPad and Mac. We're going to keep investing in innovation and in transformative tools that help users in their everyday lives.\\r\\nLet me now turn to our results for the quarter, starting with iPhone. iPhone revenue came in at $69.1 billion, reaching all-time iPhone revenue records in dozens of markets and regions. Our iPhone 16 lineup takes the smartphone experience to the next level in so many ways, and Apple Intelligence is one of many reasons why customers are excited. With the A18-powered iPhone 16 and iPhone 16 Plus, users are getting a big boost in battery life and incredible camera experiences with Camera Control. Our amazingly powerful iPhone 16 Pro models go even further with larger-than-ever displays and a Pro camera system so advanced it can turn moments into masterpieces.\", \"In Mac, revenue was $9 billion for the December quarter, 16% higher year-over-year, driven by significant excitement around the world for our latest Mac lineup. The Mac is more than just a powerful tool. It's a launchpad to enable users to bring their best ideas and boldest creations to life. And there are so many reasons to choose Mac, from the breathtaking performance of the M4 family of chips to the groundbreaking and growing capabilities of Apple Intelligence.\\r\\nEvery product in the Mac lineup offers something extraordinary, whether that's the super portable MacBook Air, the powerhouse MacBook Pro, the world's best all-in-one iMac or the small wonder that is the Mac mini, which is not only stunningly capable but is our first carbon-neutral Mac. All of this is enabled by the unparalleled power of Apple silicon.\\r\\niPad revenue was $8.1 billion, up 15% from a year ago, driven by strong interest for our latest products. We love hearing from customers who are discovering for the first time the versatility of iPad, from the ultra-portable iPad mini built from the ground up for Apple Intelligence to the powerful M4 iPad Pro in a stunningly thin and light design. iPad is there for users whenever they need it and wherever they go, and we are pleased to see so much excitement and enthusiasm for our lineup.\\r\\nWearables, Home and Accessories revenue came in at $11.7 billion. With its most advanced display yet and a thinner, more comfortable design, the all-new Apple Watch Series 10 is the perfect companion to help users pursue their health and fitness goals this year. From the powerful Vitals app to more customizable Activity rings, users have an ever-increasing set of innovative health tools at their fingertips in watchOS 11.\\r\\nHealth innovation has long been a focus for us, and we're committed to continuing to advance this work because we know how much it matters to our users. We've introduced new hearing health features on AirPods Pro 2, and new sleep apnea notifications on Apple Watch are also helping users learn of a potentially serious condition that's thought to affect up to 1 billion people worldwide.\\r\\nDuring the quarter, we also brought Apple Vision Pro to even more countries, enabling more customers to discover the magic of spatial computing. Users are enjoying incredible immersive entertainment experiences and powerful new features and enhancements to Mac virtual display. Vision Pro is also supercharging the creative process and the incredibly talented director, Jon M. Chu, recently shared how its extraordinary capabilities helped him bring the movie Wicked to life.\\r\\nTurning to Services. We set an all-time revenue record of $26.3 billion for the December quarter, growing 14% from a year ago. We set all-time records in the Americas, Europe and rest of Asia Pacific and a December quarter record in Japan.\", \"Five years since launch, Apple TV+ continues to be home to incredible storytelling that viewers love. There's nothing quite like the anticipation that comes when a fan favorite returns, and we were thrilled to debut the second season of Severance earlier this month. We have so much in store for our subscribers this year with new shows like The Studio and Your Friends & Neighbors. And we can't wait for the premier of Formula 1 starring Brad Pitt on June 27, which will take viewers inside the sport in a truly unprecedented way. We're excited that Apple TV+ continues to draw attention and accolades. To date, Apple TV+ productions have earned more than 2,500 nominations and 538 wins.\", \"During the quarter, we were also excited to launch a new Find My service that can help our users when they lose their luggage. For the first time, if you put an AirTag in your suitcase, you'll be able to share its location information with many major airlines so they can quickly track down your bags if they get lost.\\r\\nTurning to retail. Our teams went above and beyond to help customers find the perfect gift throughout the holiday season. We also celebrated openings of new stores in China, Spain and the U.S. And we were excited to announce plans to connect with even more customers this year by adding a fifth store in the UAE and bringing our online store to Saudi Arabia this summer. We can't wait to welcome customers to the first of several flagship store locations in Saudi Arabia that we're opening beginning in 2026. I just had the chance to visit both countries last month, and I had a great time meeting with customers and team members. There's an incredible energy and passion for technology in these growing markets.\\r\\nEvery day I get deeply moving notes about the many ways our technology is enriching our users' lives. I recently got a note from a customer who put his watch on his father's wrist when he feared something was wrong with him. The watch alerted them that the father was in AFib, and they were able to get him to the hospital for potentially life-saving treatment. Another user put his new watch on for the first time and, within 15 minutes, was notified of a low heart rate that led to a necessary pacemaker. And there are so many touching notes around the profound impact of our new hearing health feature like a recent user who told me it had changed her life, allowing her to take part in conversations with her children and grandchildren. These are the kind of stories that remind us of how profoundly important our work is, and it drives us to innovate each and every day.\", \"At Apple, the future is full of promise and potential. We're always searching across a world of possibilities, finding those places where we can do the most good and putting all of our energy and ingenuity into making something special.\\r\\nWith that, I'll turn it over to Kevan.\"], 'session': 'management_discussion'}, {'name': 'Kevan Parekh', 'speech': [\"Thanks, Tim, and good afternoon, everyone. I'm going to cover the results for the first quarter of our fiscal year.\\r\\nWe are very pleased to report an all-time high for revenue with December quarter revenue of $124.3 billion, up 4% year-over-year. We achieved all-time revenue records in the Americas, Europe, Japan and rest of Asia Pacific and grew in the vast majority of markets we track. Products revenue was $98 billion, up 2% year-over-year, driven by growth from iPad and Mac. Thanks to our incredible customer satisfaction and strong loyalty, our installed base of active devices reached an all-time high across all products and geographic segments and is now over 2.35 billion active devices. Services revenue reached an all-time record of $26.3 billion, up 14% year-over-year. We grew in every geographic segment and achieved all-time records in both developed and emerging markets.\\r\\nCompany gross margin was 46.9%, at the high end of our guidance range and up 70 basis points sequentially, primarily driven by favorable mix. Products gross margin was 39.3%, up 300 basis points sequentially, primarily driven by favorable mix and leverage. Services gross margin was 75%, up 100 basis points sequentially, primarily driven by mix.\\r\\nOperating expenses of $15.4 billion landed at the midpoint of our guidance range and up 7% year-over-year. This strong business performance resulted in all-time records for both net income at $36.3 billion and diluted earnings per share of $2.40, up 10% year-over-year. Operating cash flow was also strong at $29.9 billion, which included the impact of the $11.9 billion we paid during the quarter in connection with the State Aid decision.\\r\\nNow I'm going to provide some more details for each of our revenue categories. iPhone revenue was $69.1 billion, roughly flat to the prior year. We grew in the majority of markets we track and reached all-time revenue records in several developed markets, including Canada, Western Europe and Japan, and in emerging markets like Latin America, the Middle East and South Asia.\", 'The iPhone active installed base grew to an all-time high in total and in every geographic segment. We also set an all-time record for upgraders. According to a recent survey from Kantar during the December quarter, iPhone was a top-selling model in the U.S., urban China, India, the U.K., France, Australia and Japan. We continue to see high levels of customer satisfaction in the U.S. at 96%, as measured by 451 Research.', 'Mac generated $9 billion in revenue, up 16% year-over-year. We saw strength across our lineup, from the new Mac mini to the latest MacBook Air and MacBook Pro models. This incredible performance was broad based with double-digit growth in every geographic segment. With our latest advances in Apple silicon and our fastest neural engine ever, customers are able to take advantage of the full capabilities of AI and Mac.', 'The Mac installed base reached an all-time high, and we saw double-digit growth for both upgraders and customers new to the Mac. Additionally, customer satisfaction in the U.S. was recently measured at 94%.\\r\\niPad revenue was $8.1 billion, up 15% year-over-year, driven by the new iPad mini and latest iPad Air. The iPad installed base reached another all-time high, and over half of the customers who purchased an iPad during the quarter were new to the product. Customer satisfaction was at 96% in the U.S. based on the latest reports from 451 Research.\\r\\nWearables, Home and Accessories revenue was $11.7 billion, down 2% year-over-year. Customers are excited about the new AirPods 4 and the latest hearing health features in AirPods Pro 2. On Watch, although we face a difficult compare against the Watch Ultra 2 launched last year, the Apple Watch installed base reached a new all-time high with over half of customers purchasing an Apple Watch during the quarter being new to the product. Customer satisfaction for Watch in the U.S. was reported at 94%.\\r\\nOur Services revenue reached an all-time high of $26.3 billion, up 14% year-over-year. Services continues to see strong momentum, and the growth of our installed base of active devices gives us great opportunities for the future. We also see increased customer engagement with our Services offerings. Both transacting and paid accounts reached new all-time highs with paid accounts growing double digits year-over-year.', 'Paid subscriptions also grew double digits. We have well over 1 billion paid subscriptions across the services on our platform. We remain focused on improving the breadth and quality of our services offerings, from new games in Apple Arcade to exciting new programming on Fitness+ and the continued expansion of features like Tap to Pay now live in 20 markets.', \"Turning to enterprise. We have seen businesses continue to expand their deployments of our products and services. Deutsche Bank launched its Mac as Choice program for their developers and also issued the latest MacBook Air as a standard computer for their entire mortgage lending division. And we're excited to see leading enterprises such as SAP leverage Apple Intelligence in the U.S. with features like Writing Tools, summarize and priority notifications to enhance both their employee and customer experiences.\\r\\nWe also see strong demand in our emerging markets. For example, Zomato, a leading food ordering and delivery company in India, has deployed thousands of Macs across their workforce to foster innovation. And Vision Pro continues to see more use cases in enterprise with Cisco's new spatial meetings delivering a fully immersive video conferencing experience for remote collaboration and learning.\\r\\nLet me quickly summarize our cash position and capital return program. We ended the quarter with $141 billion in cash and marketable securities. We repaid $1 billion in maturing debt and decreased commercial paper by $8 billion, resulting in $97 billion in total debt. Therefore, net cash at the end of the quarter was $45 billion.\\r\\nDuring the quarter, we returned over $30 billion to shareholders. This included $3.9 billion in dividends and equivalents and $23.3 billion through open market repurchases of 100 million Apple shares. As usual, we will provide an update to our capital return program when we report results for the March quarter.\\r\\nAs we move ahead into the March quarter, I'd like to review our outlook, which includes the types of forward-looking information that Suhasini referred to at the beginning of the call. The color we're providing today assumes that the macroeconomic outlook doesn't worsen from what we're projecting today for the current quarter.\\r\\nAs the dollar strengthened significantly, we expect foreign exchange to be a headwind and to have a negative impact on revenue of about 2.5 percentage points on a year-over-year basis. Despite that headwind, we expect our March quarter total company revenue to grow low to mid-single digits year-over-year. We expect Services revenue to grow low double digits year-over-year. When you remove the negative impact of the foreign exchange headwinds I described earlier, the year-over-year growth rate would be comparable to that of the December quarter.\\r\\nWe expect gross margin to be between 46.5% and 47.5%. We expect operating expenses to be between $15.1 billion and $15.3 billion. We expect OI&E to be around negative $300 million, excluding any potential impact from the mark-to-market of minority investments, and our tax rate to be around 16%.\\r\\nFinally, today, our Board of Directors has declared a cash dividend of $0.25 per share of common stock payable on February 13, 2025, to shareholders of record as of February 10, 2025.\\r\\nWith that, let's open the call to questions.\"], 'session': 'management_discussion'}, {'name': 'Suhasini Chandramouli', 'speech': ['Thank you, Kevan. We ask that you limit yourself to 2 questions. Operator, may we have the first question, please?'], 'session': 'management_discussion'}, {'name': 'Operator', 'speech': ['Certainly. We will go ahead and take our first question from Erik Woodring with Morgan Stanley.'], 'session': 'management_discussion'}, {'name': 'Erik Woodring', 'speech': ['Tim, in your prepared remarks, you had noted that iPhone 16 models are selling better in markets where Apple Intelligence is available. And I was just wondering if you could double-click on that comment a bit and share any other details you believe could better help us understand how Apple Intelligence is really impacting iPhone demand and/or what features you find that users are using most often already. And then I just have a quick follow-up.'], 'session': 'question_answer'}, {'name': 'Timothy Cook', 'speech': [\"Yes, Erik. It's Tim. We did see that the markets where we had rolled out Apple Intelligence, that the year-over-year performance on the iPhone 16 family was stronger than those where Apple Intelligence was not available. In terms of the features that people are using, they're using all of the ones that I had referenced in my opening comments, from Writing Tools to Image Playground and Genmoji, to visual intelligence and more. And so we see all of those being used. Clean Up is another one that is popular, and people love seeing that one demoed in the stores as well.\", \"We only had 2, 2.5 weeks or so during the December quarter of the second release of 18.2 and then only had the U.K. and the other English language countries for the 2.5 weeks. And so we've got just the early indications at the moment. But we were glad...\"], 'session': 'question_answer'}, {'name': 'Erik Woodring', 'speech': [\"That's really helpful. And then if we just touch on China, obviously, in the news fairly frequently. If we set aside China macro, which I understand is still challenging, can you maybe talk about the headwinds that Apple faces, whether that's shifting preferences for Western technology brands in favor of domestic vendors? Or is this just a function of not necessarily having Apple Intelligence available with the iPhone 16, which is not necessarily helping replacement cycles? Just maybe double-clicking on what you think and what you're hearing in China as a regard -- as it relates to the iPhone.\"], 'session': 'question_answer'}, {'name': 'Timothy Cook', 'speech': [\"Yes, sure. If you look at our Greater China revenue for the quarter, we were down 11% year-over-year. And over half of the decline that we experienced was driven by change in channel inventory from the beginning to the end of the quarter. And of course, on the Apple Intelligence side, we have not rolled out in China. And as we just talked about, we did see better results in the markets that we had rolled out in than markets we hadn't rolled out in. And of course, it's the most competitive market in the world. And so all of those things are true.\\r\\nIn terms of the macro situation, there was a fiscal stimulus or subsidy announced in -- very recently in January that did not affect the December quarter. There were some provincial subsidies in the December quarter, but the national program was announced, I believe, on January 20. And it does cover the categories that we have products in, from smartphones to tablets and PCs and smartwatches, up to a certain maximum price point. And so we do see fiscal stimulus occurring, and we'll be glad to talk about what that looks like on the next call.\"], 'session': 'question_answer'}, {'name': 'Operator', 'speech': ['Our next question is from Ben Reitzes with Melius.'], 'session': 'question_answer'}, {'name': 'Benjamin Reitzes', 'speech': [\"Tim, wanted to ask you. You knew this one was coming, but there's a perception that you're a big beneficiary of lower cost of compute. And I was wondering if you could give your worldly perspective here on the DeepSeek situation and if you are going to -- if you -- if anything has happened to change your views in terms of a tailwind to margins and your ability to execute even due to the potential for cost to come down due to that development and probably what was going to happen anyway. But I'd love your perspective on that, and then I have a quick follow-up.\"], 'session': 'question_answer'}, {'name': 'Timothy Cook', 'speech': [\"Sure. In general, I think innovation that drives efficiency is a good thing. And that's what you see in that model. Our tight integration of silicon and software, I think, will continue to serve us very well. As you know, we do things on the device and we do things in the private cloud, and -- which mimics from an architectural point of view what happens on device. And from a CapEx point of view, we've always taken a very prudent and deliberate approach to our expenditure, and we continue to leverage a hybrid model, which I think continues to serve us well.\"], 'session': 'question_answer'}, {'name': 'Benjamin Reitzes', 'speech': [\"Great. All right. And then just with regard to the iPhone trajectory, do you feel like, I guess, what -- you obviously don't talk about new products and stuff like that, but do you feel that there's a lot of room for form factor innovation in the future? Or do you feel that the current lineup kind of shows where you're going? I guess without pulling punches, wondering if you thought, in terms of the phone innovation, if there's a lot more to come and you could see the kind of current market changing a bit over the next 2 to 3 years.\"], 'session': 'question_answer'}, {'name': 'Timothy Cook', 'speech': [\"I think -- Ben, I think there's a lot more to come, and I could not feel more optimistic about our product pipeline. So I think there's a lot of innovation left on the smartphone.\"], 'session': 'question_answer'}, {'name': 'Operator', 'speech': ['Our next question is from Michael Ng with Goldman Sachs.'], 'session': 'question_answer'}, {'name': 'Michael Ng', 'speech': [\"I have 2 as well. First, it was encouraging to hear about the record for iPhone upgraders, which I think is something you haven't said for about a year now. I was wondering if you could talk a little bit about what you would attribute this upgrade strength to. Has Apple Intelligence played a role in helping upgrades in the markets that you've launched in?\"], 'session': 'question_answer'}, {'name': 'Timothy Cook', 'speech': [\"Yes. Thank you for the question. If you look at iPhone, we did set an all-time record for upgraders. So we've never seen a higher level of upgraders before. The installed base hit a new all-time high as well. And if you look at the 16 compared to the 15, from launch, which occurred, as you know, in September, so this is across now 2 quarters from September to the end of the December fiscal quarter, the 16 outperformed the 15. And so I think you can conclude from that, that there are compelling reasons to upgrade. And in the markets where we had launched Apple Intelligence, they outperformed the markets that we did not. So lots of good color there.\"], 'session': 'question_answer'}, {'name': 'Michael Ng', 'speech': [\"Great. That's very clear. And then I had one about the iPad Pro M4, the thinner version. I was just wondering if you could talk about that thin form factor for the iPad Pro. How did it help iPad sales overall? And what does your kind of marketing consumer research tell you about how consumers value that thin product form factor?\"], 'session': 'question_answer'}, {'name': 'Timothy Cook', 'speech': [\"It's a good question. iPad overall grew 15% for the quarter, and it was more driven by iPad Air and the entry-level iPad than it was the top-level iPad. But overall, we could not be more pleased with the iPad category growing 15%. It's a great achievement for the quarter. And probably what is most important is that over half of the sales in the December quarter went to customers who were new to the iPad. So that tells us that there's a good amount of customers there to attract.\"], 'session': 'question_answer'}, {'name': 'Operator', 'speech': ['Our next question is from Amit Daryanani from Evercore.'], 'session': 'question_answer'}, {'name': 'Amit Daryanani', 'speech': [\"Just maybe to start with, you're also seeing some very robust growth trends in emerging markets right now for Apple products. Can you just -- at a high level, just talk to the durability of growth that you see in the emerging markets? And then do you think the summation of these emerging markets are starting to get big enough or perhaps starting to grow fast enough that you can actually offset some of the China headwinds you're going through?\"], 'session': 'question_answer'}, {'name': 'Timothy Cook', 'speech': [\"We have great results in a number of emerging markets. And as you know from past calls, I'm particularly keen on India. India set a December quarter record during the quarter. And we're opening more stores there. We've announced that we're going to open 4 new stores there. We also -- the iPhone was the top-selling model in India for the quarter. And it is the second largest smartphone market in the world and the third largest for PCs and tablets. And so there's a huge market. And we are -- we have very modest share in these markets. And so I think there's lots of upside there. And that's just one of the emerging markets.\"], 'session': 'question_answer'}, {'name': 'Kevan Parekh', 'speech': [\"Tim, maybe I'll add, Amit, that in emerging markets, we're also seeing double-digit growth on the installed base both in total and for the iPhone as well. So that's also an encouraging sign.\"], 'session': 'question_answer'}, {'name': 'Amit Daryanani', 'speech': ['Perfect. And then I guess just a question on gross margins for the March quarter. You folks are guiding gross margins flattish on a sequential basis. Typically, I think it tends to be guided up a little bit, 50 basis points or so sequentially. Can you just touch on like what are the offsets, the puts and takes you see here on gross margins? And Kevan, maybe you can just talk about is FX having an outsized impact on your margin profile as well in March.'], 'session': 'question_answer'}, {'name': 'Kevan Parekh', 'speech': [\"Yes, Amit, let me take that one. As we mentioned in my remarks, we're guiding to 46.5% to 47.5%. So we think it's -- we're very pleased with that level of guidance. As you mentioned, there's always puts and takes. We do think there's going to be some FX headwinds, which we talked about, that's going to affect our revenue growth as well. It'll have an impact here on the margin, a sequential impact on margins.\", \"But we think that's going to be offset by favorable costs and the relative mix of services. We also -- as you know, when we move from Q1 to Q2, especially on the product side, because Q1 is such a large quarter for our products business, we do have a loss of leverage. So there are some puts and takes. And I think we feel good about the range. We think it's a very, very strong guide for gross margin.\"], 'session': 'question_answer'}, {'name': 'Operator', 'speech': ['Our next question is from Wamsi Mohan with Bank of America.'], 'session': 'question_answer'}, {'name': 'Wamsi Mohan', 'speech': ['Tim, I want to follow up on your comment about channel inventory in China. I was wondering if you could maybe address more broadly channel inventory across your different product lines and regions. Do you feel they are elevated or out of range in any other regions? And given the clearing event that kind of happened in China, I guess, in the quarter, should we think of a more normal progression quarter-on-quarter into the March quarter in China in particular? And I have a follow-up.'], 'session': 'question_answer'}, {'name': 'Timothy Cook', 'speech': [\"Yes. I don't want to project sales for the current quarter by region. But if you look at the channel inventory and look at iPhone in the aggregate, so on a worldwide basis, we're very comfortable with our channel inventory position. In the -- in China, my point was that our channel inventory reduced from the beginning of the quarter to the end of the quarter, and that was over half of the reduction in the reported results. And so if you look -- part of the reason for that is that our sales were a bit higher than we forecasted them to be toward the end of the quarter. And so we ended a little leaner than we had expected to.\"], 'session': 'question_answer'}, {'name': 'Wamsi Mohan', 'speech': [\"Okay. That's very clear. And then maybe as my follow-up, your Services growth has been very strong, and I know you've kind of been navigating some pretty challenging regulatory burdens on the business globally. So how should investors think about maybe either a top line or a margin headwind that, let's say, you are currently absorbing in your results that could potentially maybe reverse in a more balanced regulatory environment?\"], 'session': 'question_answer'}, {'name': 'Kevan Parekh', 'speech': ['Yes. So I think, one, I just wanted to kind of reiterate the fact that our Services business had an all-time record for December quarter, up 14%. And that was a -- one strength that we saw across all geographic segments and also was very broad based across all of our services. So we have, as you know, a very broad Services portfolio. And so we do see good momentum across the board. And as well, we continue to see increasing engagement across the customer base, across all of the service offerings, both transacting and paid accounts. We talked about reaching all-time highs. And we have over now 1 billion paid subscriptions across the Services platform.'], 'session': 'question_answer'}, {'name': 'Operator', 'speech': ['Our next question is from Samik Chatterjee with JPMorgan.'], 'session': 'question_answer'}, {'name': 'Samik Chatterjee', 'speech': [\"I guess for the first one, if I -- I mean, you had a great quarter on Macs and iPads both. And I'm just curious in terms of if you can help us think about the sustainability of this double-digit growth that you saw in both the product lines. And more interested to also hear, we are talking about Apple Intelligence sort of influencing volumes on iPhones, but any thoughts on sort of how -- what does that influence look like in terms of volumes for Macs, for example, where I think there's a lot of conversation around AI PCs, how you're thinking about the impact there? And I have a quick follow-up.\"], 'session': 'question_answer'}, {'name': 'Timothy Cook', 'speech': [\"Yes. If you look at Mac, Mac was up 16%. And on iPad, we were up 15%. The Mac was driven by the very strong uptake on our new products during the quarter and the continued success of the MacBook Air. And so as you know, we've launched an M4-based MacBook Pro, an iMac and a Mac mini during the quarter. We believe we've got the best AI PC out there for running workloads. The silicon in the Mac is, and it has been for several years now, designed by us and really designed for these workloads. And so I don't want to project at the category level for the future, but we're incredibly pleased with both the Mac and the iPad for the quarter.\"], 'session': 'question_answer'}, {'name': 'Samik Chatterjee', 'speech': [\"Okay. And Tim, I'm going to use your earlier discussion about India as a strong emerging market to sort of ask you about the supply chain planning there in terms of how much of the supply chain planning there that you're doing is more of a reflection of the growth expectations from that market relative to -- in terms of diversification of the supply chain. And how should we sort of think about that strategy related to that particular country?\"], 'session': 'question_answer'}, {'name': 'Timothy Cook', 'speech': [\"Yes. If you look at the manufacturing we do there, we do manufacturing both for the domestic market and we export. And so in -- our business needs a certain economies of scale for it to make sense to manufacture in country. And so that really means that we're going to be both a use for the domestic market and an export market.\"], 'session': 'question_answer'}, {'name': 'Operator', 'speech': ['Our next question is from David Vogt with UBS.'], 'session': 'question_answer'}, {'name': 'David Vogt', 'speech': [\"So maybe, Tim, this is for you. I'm trying to think about your commentary around Apple Intelligence being sort of a momentum driver for the iPhone business. But when I think about your kind of framework for the March quarter, if I kind of adjust for channel inventory over the last couple of years, kind of feels like your iPhone revenue for the March quarter is going to be relatively similar to the quarter 2 years ago and even the quarter last year. So how do we square kind of the momentum versus kind of the iPhone business effectively really kind of unchanged over the last couple of years?\", \"And then second, when I think about kind of the gross margin profile of the business, obviously, you've done a great job in taking gross margins up. Where do you think we sit in terms of, on the services side at least, where margins could go? It looks like the 75% margin has been incredibly successful quarter. But just trying to get a sense for where do you think this number could go over the intermediate term.\"], 'session': 'question_answer'}, {'name': 'Timothy Cook', 'speech': [\"Yes. If you look at Apple Intelligence, what my point earlier was that markets where we had rolled out Apple Intelligence during the Q1 period performed better on a year-over-year basis than markets where we had not. And so that gives us -- it's a positive indicator that we were pleased with. There are many compelling reasons to upgrade.\", \"And the other thing I would say that I think I mentioned earlier is that if you look at it from a launch to the end of the December quarter, and so that goes back to September, the 16 family is outperforming the 15 family. And so I think those are 2 good data points. Our next round of language rollouts will be in April. And so it will be at the -- in our Q3 quarter. And I'll let Kevan take the gross margin question.\"], 'session': 'question_answer'}, {'name': 'Kevan Parekh', 'speech': [\"So on the Services gross margin, I think maybe just stepping back a second. Services business in general is -- in aggregate is accretive to the overall company margin. And one of the things, as an important reminder, is we've got a very broad Services portfolio. And those businesses have very different margin profiles. And so I think, one, it's because of the nature of those businesses and in part also because of the way we account for them. And so one of the big factors that drive the Services gross margins is relative performance of those different businesses within the portfolio.\", \"We also have the dynamic of some scale businesses like payment services, iCloud, that are actually growing. And there, when we add incremental users, those end up being accretive to margins as well. And so in general, what we saw in the December quarter was nice momentum across our entire Services business that allows us to deliver that 75% margin at the Services level. And I think our guidance takes into consideration where we think we're going to land from a company standpoint of 46.5% to 47.5%, which again, we think is a strong guide.\"], 'session': 'question_answer'}, {'name': 'Operator', 'speech': ['Our next question is from Krish Sankar with TD Cowen.'], 'session': 'question_answer'}, {'name': 'Sreekrishnan Sankarnarayanan', 'speech': ['I also had 2 of them. One, the first one for Tim. You had very strong Mac growth, 16% year-over-year last quarter. Just wondering, how much of that was driven by some of the Mac silicon innovation versus a replacement cycle for Macs?'], 'session': 'question_answer'}, {'name': 'Timothy Cook', 'speech': [\"I don't know the answer to your question precisely, but I think it is a combination of these products are so compelling, the M4-based products are so compelling that it's driving both upgrades at the double-digit level and it's driving switchers at a double-digit level. And so we're seeing both come out, and I think it's just because of the compelling products.\"], 'session': 'question_answer'}, {'name': 'Sreekrishnan Sankarnarayanan', 'speech': [\"Got it. Got it. And then a follow-up for Kevan on the gross margin. I want to ask you more on the product side. Last quarter, you had 39.3%, which is very strong, similar to a year ago period. I'm kind of curious, how much more levels do you have on the product side to improve the gross margin? Or do you think with some of the more new AI-related devices, there's more upside to gross margin from here on the product hardware side?\"], 'session': 'question_answer'}, {'name': 'Kevan Parekh', 'speech': [\"Yes. Thanks, Krish, for the question. So on the product side, as you mentioned, we had pretty strong sequential improvement, 300 basis points for the December quarter. That was really driven by, we talked about, favorable mix and leverage. As you know, in Q1, again, it's a launch quarter for many products, and so we tend to benefit from the leverage that we get from that higher volume.\\r\\nI would say, in general, our gross margin on products is driven by a number of factors. One of them is the various product launches that we have. Different products do have different margin profiles. And so that mix does make a difference. And in particular, what we're seeing is, for example, many of our mixes across like phone, for example, we're seeing customers gravitate towards our Pro products because of things like affordability that allows our customers to get into our best products, which have favorable gross margins. So we're continuing to see that trend. That impacted us in the December quarter.\", \"As well, I think we're in a favorable commodity environment from a cost standpoint. And so we're benefiting from that as well in the December quarter. And then that's going to be, as we talked about, we're going to have a foreign exchange headwind heading into the March quarter. But we figured -- that's contemplated in the guidance range that we gave, the 46.5% to 47.5%.\"], 'session': 'question_answer'}, {'name': 'Operator', 'speech': ['Our next question is from Richard Kramer with Arete Research.'], 'session': 'question_answer'}, {'name': 'Richard Kramer', 'speech': [\"My first question is for Tim. I'd like to ask about what might accelerate the pace of Apple Intelligence adoption. I guess do you see this simply as a question of time, i.e., to launch more markets and languages or increase the percentage of installed base devices that can support it? Or is it a question of money, i.e., shifting R&D or marketing spend towards AI? And based on other prior Apple services, do you expect a sort of tipping point where adoption will go mainstream?\"], 'session': 'question_answer'}, {'name': 'Timothy Cook', 'speech': [\"I do believe it will go mainstream. I'm getting feedback from people using different features today. And this is -- keep in mind that on the iPhone side of our business, you either have to have an iPhone 15 Pro or iPhone 16 to use Apple Intelligence. And so the -- as that base grows, I think the usage will continue to grow. And I think -- I know from my own personal experience, once you start using the features, you can't imagine not using them anymore. I know I get hundreds of e-mails a day, and the summarization function is so important. So I think it's a combination of that. And of course, in April, we roll out a whole series of new languages that we had mentioned, and so the base grows further.\"], 'session': 'question_answer'}, {'name': 'Richard Kramer', 'speech': [\"Okay. And then, Kevan, one of Luca's legacies was really getting Apple to record margin levels and also maintaining very consistent pricing across the product range. But taking the current high levels of profitability as fairly stable, what observations might you share about price sensitivity of users and whether having a wider range of pricing across the products might unlock potentially further market share gains or boost overall product growth?\"], 'session': 'question_answer'}, {'name': 'Kevan Parekh', 'speech': [\"Yes, it's a good question. I think, one, I don't think we're going to really depart from what served us pretty well to now. I mean we always take it into consideration, looking at short term -- comparison between the short term and the long term. I think we've had a pretty disciplined pricing strategy, which served us pretty well. And I think we're going to continually kind of stick with that as far as I can tell.\"], 'session': 'question_answer'}, {'name': 'Operator', 'speech': ['Our next question is from Atif Malik with Citi.'], 'session': 'question_answer'}, {'name': 'Atif Malik', 'speech': ['How do you guys see the potential tariff impact to your product or consumer demand under Trump 2.0? You guys did fine under Trump 1.0.'], 'session': 'question_answer'}, {'name': 'Timothy Cook', 'speech': [\"We are monitoring the situation and don't have anything more to add than that.\"], 'session': 'question_answer'}, {'name': 'Atif Malik', 'speech': [\"Great. And Tim, as a follow-up, there is a lot of discussion on agentic AI, the use of agents. Do you guys see the upgraded Siri expected in April as something that will, let's say, be the killer application among the suite of features that you have announced in Apple Intelligence?\"], 'session': 'question_answer'}, {'name': 'Timothy Cook', 'speech': [\"I think the killer feature is different for different people. But I think for most, they're going to find that they're going to use many of the features every day. And certainly, one of those is the -- is Siri, and that will be coming over the next several months.\"], 'session': 'question_answer'}, {'name': 'Suhasini Chandramouli', 'speech': ['All right. Thank you, Atif. Operator, could we please get the last question?'], 'session': 'question_answer'}, {'name': 'Operator', 'speech': ['Our last question is from Ben Bollin from Cleveland Research Company.'], 'session': 'question_answer'}, {'name': 'Benjamin Bollin', 'speech': [\"Tim, I'm interested in your thoughts and how you would have us think about the average useful life of these devices in the wild. And in particular, curious if you look at the strength you saw in fiscal '21 and how that might support accelerated refresh opportunity into the future.\"], 'session': 'question_answer'}, {'name': 'Timothy Cook', 'speech': [\"Yes. Ben, I think it's different for different types of users. I mean you have very early adopter kind of users that are very quick to jump on the latest technology that upgrade very frequently. And then you have people that are on the entire opposite side of that barbell. And most people are between those 2 points. And so I do think there were lots of units that are sold during the COVID period of time, and it's a huge opportunity for us as a company to -- for more than one of the product categories.\"], 'session': 'question_answer'}, {'name': 'Suhasini Chandramouli', 'speech': [\"All right. Thanks, Ben. I think that's it. A replay of today's call will be available for 2 weeks on Apple Podcasts or as a webcast on apple.com/investor and via telephone. The number for the telephone replay is (866) 583-1035. Please enter confirmation code 7398532 followed by the pound sign. These replays will be available by approximately 5 p.m. at Pacific Time today. Members of the press with additional questions can contact Josh Rosenstock at (408) 862-1142. And financial analysts can contact me, Suhasini Chandramouli, with additional questions at (408) 974-3123. Thanks again for joining us here today.\"], 'session': 'question_answer'}, {'name': 'Operator', 'speech': [\"Once again, this does conclude today's conference. We do appreciate your participation.\"], 'session': 'question_answer'}], 'year': 2025}\n"
     ]
    }
   ],
   "source": [
    "# This is to test with one example trancript id\n",
    "transcript_id = 'AAPL_3413908'\n",
    "\n",
    "transcript = finnhub_client.transcripts(transcript_id)\n",
    "print(transcript)"
   ]
  },
  {
   "cell_type": "code",
   "execution_count": 24,
   "id": "ed55f55f",
   "metadata": {},
   "outputs": [
    {
     "name": "stdout",
     "output_type": "stream",
     "text": [
      "{\n",
      "    \"audio\": \"https://finnhub.io/api/redirect?urlType=transcripts-audio&id=AAPL_3413908\",\n",
      "    \"id\": \"AAPL_3413908\",\n",
      "    \"participant\": [\n",
      "        {\n",
      "            \"name\": \"Suhasini Chandramouli\",\n",
      "            \"description\": \"executive\",\n",
      "            \"role\": \"executive\"\n",
      "        },\n",
      "        {\n",
      "            \"name\": \"Timothy Cook\",\n",
      "            \"description\": \"executive\",\n",
      "            \"role\": \"executive\"\n",
      "        },\n",
      "        {\n",
      "            \"name\": \"Kevan Parekh\",\n",
      "            \"description\": \"executive\",\n",
      "            \"role\": \"executive\"\n",
      "        },\n",
      "        {\n",
      "            \"name\": \"Erik Woodring\",\n",
      "            \"description\": \"analyst\",\n",
      "            \"role\": \"analyst\"\n",
      "        },\n",
      "        {\n",
      "            \"name\": \"Benjamin Reitzes\",\n",
      "            \"description\": \"analyst\",\n",
      "            \"role\": \"analyst\"\n",
      "        },\n",
      "        {\n",
      "            \"name\": \"Michael Ng\",\n",
      "            \"description\": \"analyst\",\n",
      "            \"role\": \"analyst\"\n",
      "        },\n",
      "        {\n",
      "            \"name\": \"Amit Daryanani\",\n",
      "            \"description\": \"analyst\",\n",
      "            \"role\": \"analyst\"\n",
      "        },\n",
      "        {\n",
      "            \"name\": \"Wamsi Mohan\",\n",
      "            \"description\": \"analyst\",\n",
      "            \"role\": \"analyst\"\n",
      "        },\n",
      "        {\n",
      "            \"name\": \"Samik Chatterjee\",\n",
      "            \"description\": \"analyst\",\n",
      "            \"role\": \"analyst\"\n",
      "        },\n",
      "        {\n",
      "            \"name\": \"David Vogt\",\n",
      "            \"description\": \"analyst\",\n",
      "            \"role\": \"analyst\"\n",
      "        },\n",
      "        {\n",
      "            \"name\": \"Sreekrishnan Sankarnarayanan\",\n",
      "            \"description\": \"analyst\",\n",
      "            \"role\": \"analyst\"\n",
      "        },\n",
      "        {\n",
      "            \"name\": \"Richard Kramer\",\n",
      "            \"description\": \"analyst\",\n",
      "            \"role\": \"analyst\"\n",
      "        },\n",
      "        {\n",
      "            \"name\": \"Atif Malik\",\n",
      "            \"description\": \"analyst\",\n",
      "            \"role\": \"analyst\"\n",
      "        },\n",
      "        {\n",
      "            \"name\": \"Benjamin Bollin\",\n",
      "            \"description\": \"analyst\",\n",
      "            \"role\": \"analyst\"\n",
      "        }\n",
      "    ],\n",
      "    \"quarter\": 1,\n",
      "    \"symbol\": \"AAPL\",\n",
      "    \"time\": \"2025-01-30 22:01:00\",\n",
      "    \"title\": \"AAPL - Earnings call Q1 2025\",\n",
      "    \"transcript\": [\n",
      "        {\n",
      "            \"name\": \"Suhasini Chandramouli\",\n",
      "            \"speech\": [\n",
      "                \"Good afternoon, and welcome to the Apple Q1 Fiscal Year 2025 Earnings Conference Call. My name is Suhasini Chandramouli, Director of Investor Relations. Today's call is being recorded. Speaking first today are Apple's CEO, Tim Cook. And he'll be followed by CFO, Kevan Parekh. After that, we'll open the call to questions from analysts.\\r\\nPlease note that some of the information you'll hear during our discussion today will consist of forward-looking statements, including, without limitation, those regarding revenue, gross margin, operating expenses, other income and expense, taxes, capital allocation and future business outlook, including the potential impact of macroeconomic conditions on the company's business and results of operations. These statements involve risks and uncertainties that may cause actual results or trends to differ materially from our forecast. For more information, please refer to the risk factors discussed in Apple's most recently filed annual report on Form 10-K and the Form 8-K filed with the SEC today, along with the associated press release. Apple assumes no obligation to update any forward-looking statements, which speak only as of the date they are made.\",\n",
      "                \"I'd now like to turn the call over to Tim for introductory remarks.\"\n",
      "            ],\n",
      "            \"session\": \"management_discussion\"\n",
      "        },\n",
      "        {\n",
      "            \"name\": \"Timothy Cook\",\n",
      "            \"speech\": [\n",
      "                \"Thank you, Suhasini. Good afternoon, everyone, and thanks for joining the call. Before I talk about our results, I'd like to take a moment to acknowledge the devastating wildfires that impacted the Los Angeles area this month. From our retail teams to Apple TV+, Apple Music, Fitness+, Beats and more, L.A. is home to many of our team members. Our thoughts are with everyone who is beginning the road to recovery. For our part, we are contributing to the relief efforts, and we will continue to support our teams and the local community.\",\n",
      "                \"Now turning to the quarter. Today, Apple is reporting revenue of $124.3 billion for the December quarter, up 4% from a year ago and an all-time record. EPS also set an all-time record of $2.40, 10% higher year-over-year.\",\n",
      "                \"We achieved all-time revenue records across the majority of the countries and regions we track, including the Americas, Europe, Japan and the rest of Asia Pacific. We also continue to see momentum in emerging markets, setting all-time revenue records in a number of markets, including Latin America, the Middle East and South Asia, among others.\\r\\nIn Services, we achieved an all-time revenue record. And in the past year, we've seen nearly $100 billion in revenue from our Services business. I'm also pleased to announce that we reached a new record for our installed base with over 2.35 billion active devices.\\r\\nIn October, we released the first set of Apple Intelligence features in U.S. English for iPhone, iPad and Mac, and we rolled out more features and expanded to more countries in December. Now users can discover the benefits of these new features in the things they do every day. They can use Writing Tools to help find just the right words, create fun and unique images with Image Playground and Genmoji, handle daily tasks and seek out information with a more natural and conversational Siri, create movies of their memories with a simple prompt and touch up their photos with Clean Up.\\r\\nWe introduced visual intelligence with Camera Control to help users instantly learn about their surroundings. Users can also seamlessly access ChatGPT across iOS, iPadOS and macOS. And we were excited to recently begin our international expansion with Apple Intelligence now available in Australia, Canada, New Zealand, South Africa and the U.K.\",\n",
      "                \"We're working hard to take Apple Intelligence even further. In April, we're bringing Apple Intelligence to more languages, including French, German, Italian, Portuguese, Spanish, Japanese, Korean and simplified Chinese as well as localized English to Singapore and India. And we'll continue to roll out more features in the future, including an even more capable Siri.\",\n",
      "                \"Apple Intelligence builds on years of innovations we've made across hardware and software to transform how users experience our products. Apple Intelligence also empowers users by delivering personal context that's relevant to them. And importantly, Apple Intelligence is a breakthrough for privacy in AI with innovations like Private Cloud Compute, which extends the industry-leading security and privacy of Apple devices into the cloud.\",\n",
      "                \"Apple Intelligence opens up an exciting new frontier and is already elevating experiences across iPhone, iPad and Mac. We're going to keep investing in innovation and in transformative tools that help users in their everyday lives.\\r\\nLet me now turn to our results for the quarter, starting with iPhone. iPhone revenue came in at $69.1 billion, reaching all-time iPhone revenue records in dozens of markets and regions. Our iPhone 16 lineup takes the smartphone experience to the next level in so many ways, and Apple Intelligence is one of many reasons why customers are excited. With the A18-powered iPhone 16 and iPhone 16 Plus, users are getting a big boost in battery life and incredible camera experiences with Camera Control. Our amazingly powerful iPhone 16 Pro models go even further with larger-than-ever displays and a Pro camera system so advanced it can turn moments into masterpieces.\",\n",
      "                \"In Mac, revenue was $9 billion for the December quarter, 16% higher year-over-year, driven by significant excitement around the world for our latest Mac lineup. The Mac is more than just a powerful tool. It's a launchpad to enable users to bring their best ideas and boldest creations to life. And there are so many reasons to choose Mac, from the breathtaking performance of the M4 family of chips to the groundbreaking and growing capabilities of Apple Intelligence.\\r\\nEvery product in the Mac lineup offers something extraordinary, whether that's the super portable MacBook Air, the powerhouse MacBook Pro, the world's best all-in-one iMac or the small wonder that is the Mac mini, which is not only stunningly capable but is our first carbon-neutral Mac. All of this is enabled by the unparalleled power of Apple silicon.\\r\\niPad revenue was $8.1 billion, up 15% from a year ago, driven by strong interest for our latest products. We love hearing from customers who are discovering for the first time the versatility of iPad, from the ultra-portable iPad mini built from the ground up for Apple Intelligence to the powerful M4 iPad Pro in a stunningly thin and light design. iPad is there for users whenever they need it and wherever they go, and we are pleased to see so much excitement and enthusiasm for our lineup.\\r\\nWearables, Home and Accessories revenue came in at $11.7 billion. With its most advanced display yet and a thinner, more comfortable design, the all-new Apple Watch Series 10 is the perfect companion to help users pursue their health and fitness goals this year. From the powerful Vitals app to more customizable Activity rings, users have an ever-increasing set of innovative health tools at their fingertips in watchOS 11.\\r\\nHealth innovation has long been a focus for us, and we're committed to continuing to advance this work because we know how much it matters to our users. We've introduced new hearing health features on AirPods Pro 2, and new sleep apnea notifications on Apple Watch are also helping users learn of a potentially serious condition that's thought to affect up to 1 billion people worldwide.\\r\\nDuring the quarter, we also brought Apple Vision Pro to even more countries, enabling more customers to discover the magic of spatial computing. Users are enjoying incredible immersive entertainment experiences and powerful new features and enhancements to Mac virtual display. Vision Pro is also supercharging the creative process and the incredibly talented director, Jon M. Chu, recently shared how its extraordinary capabilities helped him bring the movie Wicked to life.\\r\\nTurning to Services. We set an all-time revenue record of $26.3 billion for the December quarter, growing 14% from a year ago. We set all-time records in the Americas, Europe and rest of Asia Pacific and a December quarter record in Japan.\",\n",
      "                \"Five years since launch, Apple TV+ continues to be home to incredible storytelling that viewers love. There's nothing quite like the anticipation that comes when a fan favorite returns, and we were thrilled to debut the second season of Severance earlier this month. We have so much in store for our subscribers this year with new shows like The Studio and Your Friends & Neighbors. And we can't wait for the premier of Formula 1 starring Brad Pitt on June 27, which will take viewers inside the sport in a truly unprecedented way. We're excited that Apple TV+ continues to draw attention and accolades. To date, Apple TV+ productions have earned more than 2,500 nominations and 538 wins.\",\n",
      "                \"During the quarter, we were also excited to launch a new Find My service that can help our users when they lose their luggage. For the first time, if you put an AirTag in your suitcase, you'll be able to share its location information with many major airlines so they can quickly track down your bags if they get lost.\\r\\nTurning to retail. Our teams went above and beyond to help customers find the perfect gift throughout the holiday season. We also celebrated openings of new stores in China, Spain and the U.S. And we were excited to announce plans to connect with even more customers this year by adding a fifth store in the UAE and bringing our online store to Saudi Arabia this summer. We can't wait to welcome customers to the first of several flagship store locations in Saudi Arabia that we're opening beginning in 2026. I just had the chance to visit both countries last month, and I had a great time meeting with customers and team members. There's an incredible energy and passion for technology in these growing markets.\\r\\nEvery day I get deeply moving notes about the many ways our technology is enriching our users' lives. I recently got a note from a customer who put his watch on his father's wrist when he feared something was wrong with him. The watch alerted them that the father was in AFib, and they were able to get him to the hospital for potentially life-saving treatment. Another user put his new watch on for the first time and, within 15 minutes, was notified of a low heart rate that led to a necessary pacemaker. And there are so many touching notes around the profound impact of our new hearing health feature like a recent user who told me it had changed her life, allowing her to take part in conversations with her children and grandchildren. These are the kind of stories that remind us of how profoundly important our work is, and it drives us to innovate each and every day.\",\n",
      "                \"At Apple, the future is full of promise and potential. We're always searching across a world of possibilities, finding those places where we can do the most good and putting all of our energy and ingenuity into making something special.\\r\\nWith that, I'll turn it over to Kevan.\"\n",
      "            ],\n",
      "            \"session\": \"management_discussion\"\n",
      "        },\n",
      "        {\n",
      "            \"name\": \"Kevan Parekh\",\n",
      "            \"speech\": [\n",
      "                \"Thanks, Tim, and good afternoon, everyone. I'm going to cover the results for the first quarter of our fiscal year.\\r\\nWe are very pleased to report an all-time high for revenue with December quarter revenue of $124.3 billion, up 4% year-over-year. We achieved all-time revenue records in the Americas, Europe, Japan and rest of Asia Pacific and grew in the vast majority of markets we track. Products revenue was $98 billion, up 2% year-over-year, driven by growth from iPad and Mac. Thanks to our incredible customer satisfaction and strong loyalty, our installed base of active devices reached an all-time high across all products and geographic segments and is now over 2.35 billion active devices. Services revenue reached an all-time record of $26.3 billion, up 14% year-over-year. We grew in every geographic segment and achieved all-time records in both developed and emerging markets.\\r\\nCompany gross margin was 46.9%, at the high end of our guidance range and up 70 basis points sequentially, primarily driven by favorable mix. Products gross margin was 39.3%, up 300 basis points sequentially, primarily driven by favorable mix and leverage. Services gross margin was 75%, up 100 basis points sequentially, primarily driven by mix.\\r\\nOperating expenses of $15.4 billion landed at the midpoint of our guidance range and up 7% year-over-year. This strong business performance resulted in all-time records for both net income at $36.3 billion and diluted earnings per share of $2.40, up 10% year-over-year. Operating cash flow was also strong at $29.9 billion, which included the impact of the $11.9 billion we paid during the quarter in connection with the State Aid decision.\\r\\nNow I'm going to provide some more details for each of our revenue categories. iPhone revenue was $69.1 billion, roughly flat to the prior year. We grew in the majority of markets we track and reached all-time revenue records in several developed markets, including Canada, Western Europe and Japan, and in emerging markets like Latin America, the Middle East and South Asia.\",\n",
      "                \"The iPhone active installed base grew to an all-time high in total and in every geographic segment. We also set an all-time record for upgraders. According to a recent survey from Kantar during the December quarter, iPhone was a top-selling model in the U.S., urban China, India, the U.K., France, Australia and Japan. We continue to see high levels of customer satisfaction in the U.S. at 96%, as measured by 451 Research.\",\n",
      "                \"Mac generated $9 billion in revenue, up 16% year-over-year. We saw strength across our lineup, from the new Mac mini to the latest MacBook Air and MacBook Pro models. This incredible performance was broad based with double-digit growth in every geographic segment. With our latest advances in Apple silicon and our fastest neural engine ever, customers are able to take advantage of the full capabilities of AI and Mac.\",\n",
      "                \"The Mac installed base reached an all-time high, and we saw double-digit growth for both upgraders and customers new to the Mac. Additionally, customer satisfaction in the U.S. was recently measured at 94%.\\r\\niPad revenue was $8.1 billion, up 15% year-over-year, driven by the new iPad mini and latest iPad Air. The iPad installed base reached another all-time high, and over half of the customers who purchased an iPad during the quarter were new to the product. Customer satisfaction was at 96% in the U.S. based on the latest reports from 451 Research.\\r\\nWearables, Home and Accessories revenue was $11.7 billion, down 2% year-over-year. Customers are excited about the new AirPods 4 and the latest hearing health features in AirPods Pro 2. On Watch, although we face a difficult compare against the Watch Ultra 2 launched last year, the Apple Watch installed base reached a new all-time high with over half of customers purchasing an Apple Watch during the quarter being new to the product. Customer satisfaction for Watch in the U.S. was reported at 94%.\\r\\nOur Services revenue reached an all-time high of $26.3 billion, up 14% year-over-year. Services continues to see strong momentum, and the growth of our installed base of active devices gives us great opportunities for the future. We also see increased customer engagement with our Services offerings. Both transacting and paid accounts reached new all-time highs with paid accounts growing double digits year-over-year.\",\n",
      "                \"Paid subscriptions also grew double digits. We have well over 1 billion paid subscriptions across the services on our platform. We remain focused on improving the breadth and quality of our services offerings, from new games in Apple Arcade to exciting new programming on Fitness+ and the continued expansion of features like Tap to Pay now live in 20 markets.\",\n",
      "                \"Turning to enterprise. We have seen businesses continue to expand their deployments of our products and services. Deutsche Bank launched its Mac as Choice program for their developers and also issued the latest MacBook Air as a standard computer for their entire mortgage lending division. And we're excited to see leading enterprises such as SAP leverage Apple Intelligence in the U.S. with features like Writing Tools, summarize and priority notifications to enhance both their employee and customer experiences.\\r\\nWe also see strong demand in our emerging markets. For example, Zomato, a leading food ordering and delivery company in India, has deployed thousands of Macs across their workforce to foster innovation. And Vision Pro continues to see more use cases in enterprise with Cisco's new spatial meetings delivering a fully immersive video conferencing experience for remote collaboration and learning.\\r\\nLet me quickly summarize our cash position and capital return program. We ended the quarter with $141 billion in cash and marketable securities. We repaid $1 billion in maturing debt and decreased commercial paper by $8 billion, resulting in $97 billion in total debt. Therefore, net cash at the end of the quarter was $45 billion.\\r\\nDuring the quarter, we returned over $30 billion to shareholders. This included $3.9 billion in dividends and equivalents and $23.3 billion through open market repurchases of 100 million Apple shares. As usual, we will provide an update to our capital return program when we report results for the March quarter.\\r\\nAs we move ahead into the March quarter, I'd like to review our outlook, which includes the types of forward-looking information that Suhasini referred to at the beginning of the call. The color we're providing today assumes that the macroeconomic outlook doesn't worsen from what we're projecting today for the current quarter.\\r\\nAs the dollar strengthened significantly, we expect foreign exchange to be a headwind and to have a negative impact on revenue of about 2.5 percentage points on a year-over-year basis. Despite that headwind, we expect our March quarter total company revenue to grow low to mid-single digits year-over-year. We expect Services revenue to grow low double digits year-over-year. When you remove the negative impact of the foreign exchange headwinds I described earlier, the year-over-year growth rate would be comparable to that of the December quarter.\\r\\nWe expect gross margin to be between 46.5% and 47.5%. We expect operating expenses to be between $15.1 billion and $15.3 billion. We expect OI&E to be around negative $300 million, excluding any potential impact from the mark-to-market of minority investments, and our tax rate to be around 16%.\\r\\nFinally, today, our Board of Directors has declared a cash dividend of $0.25 per share of common stock payable on February 13, 2025, to shareholders of record as of February 10, 2025.\\r\\nWith that, let's open the call to questions.\"\n",
      "            ],\n",
      "            \"session\": \"management_discussion\"\n",
      "        },\n",
      "        {\n",
      "            \"name\": \"Suhasini Chandramouli\",\n",
      "            \"speech\": [\n",
      "                \"Thank you, Kevan. We ask that you limit yourself to 2 questions. Operator, may we have the first question, please?\"\n",
      "            ],\n",
      "            \"session\": \"management_discussion\"\n",
      "        },\n",
      "        {\n",
      "            \"name\": \"Operator\",\n",
      "            \"speech\": [\n",
      "                \"Certainly. We will go ahead and take our first question from Erik Woodring with Morgan Stanley.\"\n",
      "            ],\n",
      "            \"session\": \"management_discussion\"\n",
      "        },\n",
      "        {\n",
      "            \"name\": \"Erik Woodring\",\n",
      "            \"speech\": [\n",
      "                \"Tim, in your prepared remarks, you had noted that iPhone 16 models are selling better in markets where Apple Intelligence is available. And I was just wondering if you could double-click on that comment a bit and share any other details you believe could better help us understand how Apple Intelligence is really impacting iPhone demand and/or what features you find that users are using most often already. And then I just have a quick follow-up.\"\n",
      "            ],\n",
      "            \"session\": \"question_answer\"\n",
      "        },\n",
      "        {\n",
      "            \"name\": \"Timothy Cook\",\n",
      "            \"speech\": [\n",
      "                \"Yes, Erik. It's Tim. We did see that the markets where we had rolled out Apple Intelligence, that the year-over-year performance on the iPhone 16 family was stronger than those where Apple Intelligence was not available. In terms of the features that people are using, they're using all of the ones that I had referenced in my opening comments, from Writing Tools to Image Playground and Genmoji, to visual intelligence and more. And so we see all of those being used. Clean Up is another one that is popular, and people love seeing that one demoed in the stores as well.\",\n",
      "                \"We only had 2, 2.5 weeks or so during the December quarter of the second release of 18.2 and then only had the U.K. and the other English language countries for the 2.5 weeks. And so we've got just the early indications at the moment. But we were glad...\"\n",
      "            ],\n",
      "            \"session\": \"question_answer\"\n",
      "        },\n",
      "        {\n",
      "            \"name\": \"Erik Woodring\",\n",
      "            \"speech\": [\n",
      "                \"That's really helpful. And then if we just touch on China, obviously, in the news fairly frequently. If we set aside China macro, which I understand is still challenging, can you maybe talk about the headwinds that Apple faces, whether that's shifting preferences for Western technology brands in favor of domestic vendors? Or is this just a function of not necessarily having Apple Intelligence available with the iPhone 16, which is not necessarily helping replacement cycles? Just maybe double-clicking on what you think and what you're hearing in China as a regard -- as it relates to the iPhone.\"\n",
      "            ],\n",
      "            \"session\": \"question_answer\"\n",
      "        },\n",
      "        {\n",
      "            \"name\": \"Timothy Cook\",\n",
      "            \"speech\": [\n",
      "                \"Yes, sure. If you look at our Greater China revenue for the quarter, we were down 11% year-over-year. And over half of the decline that we experienced was driven by change in channel inventory from the beginning to the end of the quarter. And of course, on the Apple Intelligence side, we have not rolled out in China. And as we just talked about, we did see better results in the markets that we had rolled out in than markets we hadn't rolled out in. And of course, it's the most competitive market in the world. And so all of those things are true.\\r\\nIn terms of the macro situation, there was a fiscal stimulus or subsidy announced in -- very recently in January that did not affect the December quarter. There were some provincial subsidies in the December quarter, but the national program was announced, I believe, on January 20. And it does cover the categories that we have products in, from smartphones to tablets and PCs and smartwatches, up to a certain maximum price point. And so we do see fiscal stimulus occurring, and we'll be glad to talk about what that looks like on the next call.\"\n",
      "            ],\n",
      "            \"session\": \"question_answer\"\n",
      "        },\n",
      "        {\n",
      "            \"name\": \"Operator\",\n",
      "            \"speech\": [\n",
      "                \"Our next question is from Ben Reitzes with Melius.\"\n",
      "            ],\n",
      "            \"session\": \"question_answer\"\n",
      "        },\n",
      "        {\n",
      "            \"name\": \"Benjamin Reitzes\",\n",
      "            \"speech\": [\n",
      "                \"Tim, wanted to ask you. You knew this one was coming, but there's a perception that you're a big beneficiary of lower cost of compute. And I was wondering if you could give your worldly perspective here on the DeepSeek situation and if you are going to -- if you -- if anything has happened to change your views in terms of a tailwind to margins and your ability to execute even due to the potential for cost to come down due to that development and probably what was going to happen anyway. But I'd love your perspective on that, and then I have a quick follow-up.\"\n",
      "            ],\n",
      "            \"session\": \"question_answer\"\n",
      "        },\n",
      "        {\n",
      "            \"name\": \"Timothy Cook\",\n",
      "            \"speech\": [\n",
      "                \"Sure. In general, I think innovation that drives efficiency is a good thing. And that's what you see in that model. Our tight integration of silicon and software, I think, will continue to serve us very well. As you know, we do things on the device and we do things in the private cloud, and -- which mimics from an architectural point of view what happens on device. And from a CapEx point of view, we've always taken a very prudent and deliberate approach to our expenditure, and we continue to leverage a hybrid model, which I think continues to serve us well.\"\n",
      "            ],\n",
      "            \"session\": \"question_answer\"\n",
      "        },\n",
      "        {\n",
      "            \"name\": \"Benjamin Reitzes\",\n",
      "            \"speech\": [\n",
      "                \"Great. All right. And then just with regard to the iPhone trajectory, do you feel like, I guess, what -- you obviously don't talk about new products and stuff like that, but do you feel that there's a lot of room for form factor innovation in the future? Or do you feel that the current lineup kind of shows where you're going? I guess without pulling punches, wondering if you thought, in terms of the phone innovation, if there's a lot more to come and you could see the kind of current market changing a bit over the next 2 to 3 years.\"\n",
      "            ],\n",
      "            \"session\": \"question_answer\"\n",
      "        },\n",
      "        {\n",
      "            \"name\": \"Timothy Cook\",\n",
      "            \"speech\": [\n",
      "                \"I think -- Ben, I think there's a lot more to come, and I could not feel more optimistic about our product pipeline. So I think there's a lot of innovation left on the smartphone.\"\n",
      "            ],\n",
      "            \"session\": \"question_answer\"\n",
      "        },\n",
      "        {\n",
      "            \"name\": \"Operator\",\n",
      "            \"speech\": [\n",
      "                \"Our next question is from Michael Ng with Goldman Sachs.\"\n",
      "            ],\n",
      "            \"session\": \"question_answer\"\n",
      "        },\n",
      "        {\n",
      "            \"name\": \"Michael Ng\",\n",
      "            \"speech\": [\n",
      "                \"I have 2 as well. First, it was encouraging to hear about the record for iPhone upgraders, which I think is something you haven't said for about a year now. I was wondering if you could talk a little bit about what you would attribute this upgrade strength to. Has Apple Intelligence played a role in helping upgrades in the markets that you've launched in?\"\n",
      "            ],\n",
      "            \"session\": \"question_answer\"\n",
      "        },\n",
      "        {\n",
      "            \"name\": \"Timothy Cook\",\n",
      "            \"speech\": [\n",
      "                \"Yes. Thank you for the question. If you look at iPhone, we did set an all-time record for upgraders. So we've never seen a higher level of upgraders before. The installed base hit a new all-time high as well. And if you look at the 16 compared to the 15, from launch, which occurred, as you know, in September, so this is across now 2 quarters from September to the end of the December fiscal quarter, the 16 outperformed the 15. And so I think you can conclude from that, that there are compelling reasons to upgrade. And in the markets where we had launched Apple Intelligence, they outperformed the markets that we did not. So lots of good color there.\"\n",
      "            ],\n",
      "            \"session\": \"question_answer\"\n",
      "        },\n",
      "        {\n",
      "            \"name\": \"Michael Ng\",\n",
      "            \"speech\": [\n",
      "                \"Great. That's very clear. And then I had one about the iPad Pro M4, the thinner version. I was just wondering if you could talk about that thin form factor for the iPad Pro. How did it help iPad sales overall? And what does your kind of marketing consumer research tell you about how consumers value that thin product form factor?\"\n",
      "            ],\n",
      "            \"session\": \"question_answer\"\n",
      "        },\n",
      "        {\n",
      "            \"name\": \"Timothy Cook\",\n",
      "            \"speech\": [\n",
      "                \"It's a good question. iPad overall grew 15% for the quarter, and it was more driven by iPad Air and the entry-level iPad than it was the top-level iPad. But overall, we could not be more pleased with the iPad category growing 15%. It's a great achievement for the quarter. And probably what is most important is that over half of the sales in the December quarter went to customers who were new to the iPad. So that tells us that there's a good amount of customers there to attract.\"\n",
      "            ],\n",
      "            \"session\": \"question_answer\"\n",
      "        },\n",
      "        {\n",
      "            \"name\": \"Operator\",\n",
      "            \"speech\": [\n",
      "                \"Our next question is from Amit Daryanani from Evercore.\"\n",
      "            ],\n",
      "            \"session\": \"question_answer\"\n",
      "        },\n",
      "        {\n",
      "            \"name\": \"Amit Daryanani\",\n",
      "            \"speech\": [\n",
      "                \"Just maybe to start with, you're also seeing some very robust growth trends in emerging markets right now for Apple products. Can you just -- at a high level, just talk to the durability of growth that you see in the emerging markets? And then do you think the summation of these emerging markets are starting to get big enough or perhaps starting to grow fast enough that you can actually offset some of the China headwinds you're going through?\"\n",
      "            ],\n",
      "            \"session\": \"question_answer\"\n",
      "        },\n",
      "        {\n",
      "            \"name\": \"Timothy Cook\",\n",
      "            \"speech\": [\n",
      "                \"We have great results in a number of emerging markets. And as you know from past calls, I'm particularly keen on India. India set a December quarter record during the quarter. And we're opening more stores there. We've announced that we're going to open 4 new stores there. We also -- the iPhone was the top-selling model in India for the quarter. And it is the second largest smartphone market in the world and the third largest for PCs and tablets. And so there's a huge market. And we are -- we have very modest share in these markets. And so I think there's lots of upside there. And that's just one of the emerging markets.\"\n",
      "            ],\n",
      "            \"session\": \"question_answer\"\n",
      "        },\n",
      "        {\n",
      "            \"name\": \"Kevan Parekh\",\n",
      "            \"speech\": [\n",
      "                \"Tim, maybe I'll add, Amit, that in emerging markets, we're also seeing double-digit growth on the installed base both in total and for the iPhone as well. So that's also an encouraging sign.\"\n",
      "            ],\n",
      "            \"session\": \"question_answer\"\n",
      "        },\n",
      "        {\n",
      "            \"name\": \"Amit Daryanani\",\n",
      "            \"speech\": [\n",
      "                \"Perfect. And then I guess just a question on gross margins for the March quarter. You folks are guiding gross margins flattish on a sequential basis. Typically, I think it tends to be guided up a little bit, 50 basis points or so sequentially. Can you just touch on like what are the offsets, the puts and takes you see here on gross margins? And Kevan, maybe you can just talk about is FX having an outsized impact on your margin profile as well in March.\"\n",
      "            ],\n",
      "            \"session\": \"question_answer\"\n",
      "        },\n",
      "        {\n",
      "            \"name\": \"Kevan Parekh\",\n",
      "            \"speech\": [\n",
      "                \"Yes, Amit, let me take that one. As we mentioned in my remarks, we're guiding to 46.5% to 47.5%. So we think it's -- we're very pleased with that level of guidance. As you mentioned, there's always puts and takes. We do think there's going to be some FX headwinds, which we talked about, that's going to affect our revenue growth as well. It'll have an impact here on the margin, a sequential impact on margins.\",\n",
      "                \"But we think that's going to be offset by favorable costs and the relative mix of services. We also -- as you know, when we move from Q1 to Q2, especially on the product side, because Q1 is such a large quarter for our products business, we do have a loss of leverage. So there are some puts and takes. And I think we feel good about the range. We think it's a very, very strong guide for gross margin.\"\n",
      "            ],\n",
      "            \"session\": \"question_answer\"\n",
      "        },\n",
      "        {\n",
      "            \"name\": \"Operator\",\n",
      "            \"speech\": [\n",
      "                \"Our next question is from Wamsi Mohan with Bank of America.\"\n",
      "            ],\n",
      "            \"session\": \"question_answer\"\n",
      "        },\n",
      "        {\n",
      "            \"name\": \"Wamsi Mohan\",\n",
      "            \"speech\": [\n",
      "                \"Tim, I want to follow up on your comment about channel inventory in China. I was wondering if you could maybe address more broadly channel inventory across your different product lines and regions. Do you feel they are elevated or out of range in any other regions? And given the clearing event that kind of happened in China, I guess, in the quarter, should we think of a more normal progression quarter-on-quarter into the March quarter in China in particular? And I have a follow-up.\"\n",
      "            ],\n",
      "            \"session\": \"question_answer\"\n",
      "        },\n",
      "        {\n",
      "            \"name\": \"Timothy Cook\",\n",
      "            \"speech\": [\n",
      "                \"Yes. I don't want to project sales for the current quarter by region. But if you look at the channel inventory and look at iPhone in the aggregate, so on a worldwide basis, we're very comfortable with our channel inventory position. In the -- in China, my point was that our channel inventory reduced from the beginning of the quarter to the end of the quarter, and that was over half of the reduction in the reported results. And so if you look -- part of the reason for that is that our sales were a bit higher than we forecasted them to be toward the end of the quarter. And so we ended a little leaner than we had expected to.\"\n",
      "            ],\n",
      "            \"session\": \"question_answer\"\n",
      "        },\n",
      "        {\n",
      "            \"name\": \"Wamsi Mohan\",\n",
      "            \"speech\": [\n",
      "                \"Okay. That's very clear. And then maybe as my follow-up, your Services growth has been very strong, and I know you've kind of been navigating some pretty challenging regulatory burdens on the business globally. So how should investors think about maybe either a top line or a margin headwind that, let's say, you are currently absorbing in your results that could potentially maybe reverse in a more balanced regulatory environment?\"\n",
      "            ],\n",
      "            \"session\": \"question_answer\"\n",
      "        },\n",
      "        {\n",
      "            \"name\": \"Kevan Parekh\",\n",
      "            \"speech\": [\n",
      "                \"Yes. So I think, one, I just wanted to kind of reiterate the fact that our Services business had an all-time record for December quarter, up 14%. And that was a -- one strength that we saw across all geographic segments and also was very broad based across all of our services. So we have, as you know, a very broad Services portfolio. And so we do see good momentum across the board. And as well, we continue to see increasing engagement across the customer base, across all of the service offerings, both transacting and paid accounts. We talked about reaching all-time highs. And we have over now 1 billion paid subscriptions across the Services platform.\"\n",
      "            ],\n",
      "            \"session\": \"question_answer\"\n",
      "        },\n",
      "        {\n",
      "            \"name\": \"Operator\",\n",
      "            \"speech\": [\n",
      "                \"Our next question is from Samik Chatterjee with JPMorgan.\"\n",
      "            ],\n",
      "            \"session\": \"question_answer\"\n",
      "        },\n",
      "        {\n",
      "            \"name\": \"Samik Chatterjee\",\n",
      "            \"speech\": [\n",
      "                \"I guess for the first one, if I -- I mean, you had a great quarter on Macs and iPads both. And I'm just curious in terms of if you can help us think about the sustainability of this double-digit growth that you saw in both the product lines. And more interested to also hear, we are talking about Apple Intelligence sort of influencing volumes on iPhones, but any thoughts on sort of how -- what does that influence look like in terms of volumes for Macs, for example, where I think there's a lot of conversation around AI PCs, how you're thinking about the impact there? And I have a quick follow-up.\"\n",
      "            ],\n",
      "            \"session\": \"question_answer\"\n",
      "        },\n",
      "        {\n",
      "            \"name\": \"Timothy Cook\",\n",
      "            \"speech\": [\n",
      "                \"Yes. If you look at Mac, Mac was up 16%. And on iPad, we were up 15%. The Mac was driven by the very strong uptake on our new products during the quarter and the continued success of the MacBook Air. And so as you know, we've launched an M4-based MacBook Pro, an iMac and a Mac mini during the quarter. We believe we've got the best AI PC out there for running workloads. The silicon in the Mac is, and it has been for several years now, designed by us and really designed for these workloads. And so I don't want to project at the category level for the future, but we're incredibly pleased with both the Mac and the iPad for the quarter.\"\n",
      "            ],\n",
      "            \"session\": \"question_answer\"\n",
      "        },\n",
      "        {\n",
      "            \"name\": \"Samik Chatterjee\",\n",
      "            \"speech\": [\n",
      "                \"Okay. And Tim, I'm going to use your earlier discussion about India as a strong emerging market to sort of ask you about the supply chain planning there in terms of how much of the supply chain planning there that you're doing is more of a reflection of the growth expectations from that market relative to -- in terms of diversification of the supply chain. And how should we sort of think about that strategy related to that particular country?\"\n",
      "            ],\n",
      "            \"session\": \"question_answer\"\n",
      "        },\n",
      "        {\n",
      "            \"name\": \"Timothy Cook\",\n",
      "            \"speech\": [\n",
      "                \"Yes. If you look at the manufacturing we do there, we do manufacturing both for the domestic market and we export. And so in -- our business needs a certain economies of scale for it to make sense to manufacture in country. And so that really means that we're going to be both a use for the domestic market and an export market.\"\n",
      "            ],\n",
      "            \"session\": \"question_answer\"\n",
      "        },\n",
      "        {\n",
      "            \"name\": \"Operator\",\n",
      "            \"speech\": [\n",
      "                \"Our next question is from David Vogt with UBS.\"\n",
      "            ],\n",
      "            \"session\": \"question_answer\"\n",
      "        },\n",
      "        {\n",
      "            \"name\": \"David Vogt\",\n",
      "            \"speech\": [\n",
      "                \"So maybe, Tim, this is for you. I'm trying to think about your commentary around Apple Intelligence being sort of a momentum driver for the iPhone business. But when I think about your kind of framework for the March quarter, if I kind of adjust for channel inventory over the last couple of years, kind of feels like your iPhone revenue for the March quarter is going to be relatively similar to the quarter 2 years ago and even the quarter last year. So how do we square kind of the momentum versus kind of the iPhone business effectively really kind of unchanged over the last couple of years?\",\n",
      "                \"And then second, when I think about kind of the gross margin profile of the business, obviously, you've done a great job in taking gross margins up. Where do you think we sit in terms of, on the services side at least, where margins could go? It looks like the 75% margin has been incredibly successful quarter. But just trying to get a sense for where do you think this number could go over the intermediate term.\"\n",
      "            ],\n",
      "            \"session\": \"question_answer\"\n",
      "        },\n",
      "        {\n",
      "            \"name\": \"Timothy Cook\",\n",
      "            \"speech\": [\n",
      "                \"Yes. If you look at Apple Intelligence, what my point earlier was that markets where we had rolled out Apple Intelligence during the Q1 period performed better on a year-over-year basis than markets where we had not. And so that gives us -- it's a positive indicator that we were pleased with. There are many compelling reasons to upgrade.\",\n",
      "                \"And the other thing I would say that I think I mentioned earlier is that if you look at it from a launch to the end of the December quarter, and so that goes back to September, the 16 family is outperforming the 15 family. And so I think those are 2 good data points. Our next round of language rollouts will be in April. And so it will be at the -- in our Q3 quarter. And I'll let Kevan take the gross margin question.\"\n",
      "            ],\n",
      "            \"session\": \"question_answer\"\n",
      "        },\n",
      "        {\n",
      "            \"name\": \"Kevan Parekh\",\n",
      "            \"speech\": [\n",
      "                \"So on the Services gross margin, I think maybe just stepping back a second. Services business in general is -- in aggregate is accretive to the overall company margin. And one of the things, as an important reminder, is we've got a very broad Services portfolio. And those businesses have very different margin profiles. And so I think, one, it's because of the nature of those businesses and in part also because of the way we account for them. And so one of the big factors that drive the Services gross margins is relative performance of those different businesses within the portfolio.\",\n",
      "                \"We also have the dynamic of some scale businesses like payment services, iCloud, that are actually growing. And there, when we add incremental users, those end up being accretive to margins as well. And so in general, what we saw in the December quarter was nice momentum across our entire Services business that allows us to deliver that 75% margin at the Services level. And I think our guidance takes into consideration where we think we're going to land from a company standpoint of 46.5% to 47.5%, which again, we think is a strong guide.\"\n",
      "            ],\n",
      "            \"session\": \"question_answer\"\n",
      "        },\n",
      "        {\n",
      "            \"name\": \"Operator\",\n",
      "            \"speech\": [\n",
      "                \"Our next question is from Krish Sankar with TD Cowen.\"\n",
      "            ],\n",
      "            \"session\": \"question_answer\"\n",
      "        },\n",
      "        {\n",
      "            \"name\": \"Sreekrishnan Sankarnarayanan\",\n",
      "            \"speech\": [\n",
      "                \"I also had 2 of them. One, the first one for Tim. You had very strong Mac growth, 16% year-over-year last quarter. Just wondering, how much of that was driven by some of the Mac silicon innovation versus a replacement cycle for Macs?\"\n",
      "            ],\n",
      "            \"session\": \"question_answer\"\n",
      "        },\n",
      "        {\n",
      "            \"name\": \"Timothy Cook\",\n",
      "            \"speech\": [\n",
      "                \"I don't know the answer to your question precisely, but I think it is a combination of these products are so compelling, the M4-based products are so compelling that it's driving both upgrades at the double-digit level and it's driving switchers at a double-digit level. And so we're seeing both come out, and I think it's just because of the compelling products.\"\n",
      "            ],\n",
      "            \"session\": \"question_answer\"\n",
      "        },\n",
      "        {\n",
      "            \"name\": \"Sreekrishnan Sankarnarayanan\",\n",
      "            \"speech\": [\n",
      "                \"Got it. Got it. And then a follow-up for Kevan on the gross margin. I want to ask you more on the product side. Last quarter, you had 39.3%, which is very strong, similar to a year ago period. I'm kind of curious, how much more levels do you have on the product side to improve the gross margin? Or do you think with some of the more new AI-related devices, there's more upside to gross margin from here on the product hardware side?\"\n",
      "            ],\n",
      "            \"session\": \"question_answer\"\n",
      "        },\n",
      "        {\n",
      "            \"name\": \"Kevan Parekh\",\n",
      "            \"speech\": [\n",
      "                \"Yes. Thanks, Krish, for the question. So on the product side, as you mentioned, we had pretty strong sequential improvement, 300 basis points for the December quarter. That was really driven by, we talked about, favorable mix and leverage. As you know, in Q1, again, it's a launch quarter for many products, and so we tend to benefit from the leverage that we get from that higher volume.\\r\\nI would say, in general, our gross margin on products is driven by a number of factors. One of them is the various product launches that we have. Different products do have different margin profiles. And so that mix does make a difference. And in particular, what we're seeing is, for example, many of our mixes across like phone, for example, we're seeing customers gravitate towards our Pro products because of things like affordability that allows our customers to get into our best products, which have favorable gross margins. So we're continuing to see that trend. That impacted us in the December quarter.\",\n",
      "                \"As well, I think we're in a favorable commodity environment from a cost standpoint. And so we're benefiting from that as well in the December quarter. And then that's going to be, as we talked about, we're going to have a foreign exchange headwind heading into the March quarter. But we figured -- that's contemplated in the guidance range that we gave, the 46.5% to 47.5%.\"\n",
      "            ],\n",
      "            \"session\": \"question_answer\"\n",
      "        },\n",
      "        {\n",
      "            \"name\": \"Operator\",\n",
      "            \"speech\": [\n",
      "                \"Our next question is from Richard Kramer with Arete Research.\"\n",
      "            ],\n",
      "            \"session\": \"question_answer\"\n",
      "        },\n",
      "        {\n",
      "            \"name\": \"Richard Kramer\",\n",
      "            \"speech\": [\n",
      "                \"My first question is for Tim. I'd like to ask about what might accelerate the pace of Apple Intelligence adoption. I guess do you see this simply as a question of time, i.e., to launch more markets and languages or increase the percentage of installed base devices that can support it? Or is it a question of money, i.e., shifting R&D or marketing spend towards AI? And based on other prior Apple services, do you expect a sort of tipping point where adoption will go mainstream?\"\n",
      "            ],\n",
      "            \"session\": \"question_answer\"\n",
      "        },\n",
      "        {\n",
      "            \"name\": \"Timothy Cook\",\n",
      "            \"speech\": [\n",
      "                \"I do believe it will go mainstream. I'm getting feedback from people using different features today. And this is -- keep in mind that on the iPhone side of our business, you either have to have an iPhone 15 Pro or iPhone 16 to use Apple Intelligence. And so the -- as that base grows, I think the usage will continue to grow. And I think -- I know from my own personal experience, once you start using the features, you can't imagine not using them anymore. I know I get hundreds of e-mails a day, and the summarization function is so important. So I think it's a combination of that. And of course, in April, we roll out a whole series of new languages that we had mentioned, and so the base grows further.\"\n",
      "            ],\n",
      "            \"session\": \"question_answer\"\n",
      "        },\n",
      "        {\n",
      "            \"name\": \"Richard Kramer\",\n",
      "            \"speech\": [\n",
      "                \"Okay. And then, Kevan, one of Luca's legacies was really getting Apple to record margin levels and also maintaining very consistent pricing across the product range. But taking the current high levels of profitability as fairly stable, what observations might you share about price sensitivity of users and whether having a wider range of pricing across the products might unlock potentially further market share gains or boost overall product growth?\"\n",
      "            ],\n",
      "            \"session\": \"question_answer\"\n",
      "        },\n",
      "        {\n",
      "            \"name\": \"Kevan Parekh\",\n",
      "            \"speech\": [\n",
      "                \"Yes, it's a good question. I think, one, I don't think we're going to really depart from what served us pretty well to now. I mean we always take it into consideration, looking at short term -- comparison between the short term and the long term. I think we've had a pretty disciplined pricing strategy, which served us pretty well. And I think we're going to continually kind of stick with that as far as I can tell.\"\n",
      "            ],\n",
      "            \"session\": \"question_answer\"\n",
      "        },\n",
      "        {\n",
      "            \"name\": \"Operator\",\n",
      "            \"speech\": [\n",
      "                \"Our next question is from Atif Malik with Citi.\"\n",
      "            ],\n",
      "            \"session\": \"question_answer\"\n",
      "        },\n",
      "        {\n",
      "            \"name\": \"Atif Malik\",\n",
      "            \"speech\": [\n",
      "                \"How do you guys see the potential tariff impact to your product or consumer demand under Trump 2.0? You guys did fine under Trump 1.0.\"\n",
      "            ],\n",
      "            \"session\": \"question_answer\"\n",
      "        },\n",
      "        {\n",
      "            \"name\": \"Timothy Cook\",\n",
      "            \"speech\": [\n",
      "                \"We are monitoring the situation and don't have anything more to add than that.\"\n",
      "            ],\n",
      "            \"session\": \"question_answer\"\n",
      "        },\n",
      "        {\n",
      "            \"name\": \"Atif Malik\",\n",
      "            \"speech\": [\n",
      "                \"Great. And Tim, as a follow-up, there is a lot of discussion on agentic AI, the use of agents. Do you guys see the upgraded Siri expected in April as something that will, let's say, be the killer application among the suite of features that you have announced in Apple Intelligence?\"\n",
      "            ],\n",
      "            \"session\": \"question_answer\"\n",
      "        },\n",
      "        {\n",
      "            \"name\": \"Timothy Cook\",\n",
      "            \"speech\": [\n",
      "                \"I think the killer feature is different for different people. But I think for most, they're going to find that they're going to use many of the features every day. And certainly, one of those is the -- is Siri, and that will be coming over the next several months.\"\n",
      "            ],\n",
      "            \"session\": \"question_answer\"\n",
      "        },\n",
      "        {\n",
      "            \"name\": \"Suhasini Chandramouli\",\n",
      "            \"speech\": [\n",
      "                \"All right. Thank you, Atif. Operator, could we please get the last question?\"\n",
      "            ],\n",
      "            \"session\": \"question_answer\"\n",
      "        },\n",
      "        {\n",
      "            \"name\": \"Operator\",\n",
      "            \"speech\": [\n",
      "                \"Our last question is from Ben Bollin from Cleveland Research Company.\"\n",
      "            ],\n",
      "            \"session\": \"question_answer\"\n",
      "        },\n",
      "        {\n",
      "            \"name\": \"Benjamin Bollin\",\n",
      "            \"speech\": [\n",
      "                \"Tim, I'm interested in your thoughts and how you would have us think about the average useful life of these devices in the wild. And in particular, curious if you look at the strength you saw in fiscal '21 and how that might support accelerated refresh opportunity into the future.\"\n",
      "            ],\n",
      "            \"session\": \"question_answer\"\n",
      "        },\n",
      "        {\n",
      "            \"name\": \"Timothy Cook\",\n",
      "            \"speech\": [\n",
      "                \"Yes. Ben, I think it's different for different types of users. I mean you have very early adopter kind of users that are very quick to jump on the latest technology that upgrade very frequently. And then you have people that are on the entire opposite side of that barbell. And most people are between those 2 points. And so I do think there were lots of units that are sold during the COVID period of time, and it's a huge opportunity for us as a company to -- for more than one of the product categories.\"\n",
      "            ],\n",
      "            \"session\": \"question_answer\"\n",
      "        },\n",
      "        {\n",
      "            \"name\": \"Suhasini Chandramouli\",\n",
      "            \"speech\": [\n",
      "                \"All right. Thanks, Ben. I think that's it. A replay of today's call will be available for 2 weeks on Apple Podcasts or as a webcast on apple.com/investor and via telephone. The number for the telephone replay is (866) 583-1035. Please enter confirmation code 7398532 followed by the pound sign. These replays will be available by approximately 5 p.m. at Pacific Time today. Members of the press with additional questions can contact Josh Rosenstock at (408) 862-1142. And financial analysts can contact me, Suhasini Chandramouli, with additional questions at (408) 974-3123. Thanks again for joining us here today.\"\n",
      "            ],\n",
      "            \"session\": \"question_answer\"\n",
      "        },\n",
      "        {\n",
      "            \"name\": \"Operator\",\n",
      "            \"speech\": [\n",
      "                \"Once again, this does conclude today's conference. We do appreciate your participation.\"\n",
      "            ],\n",
      "            \"session\": \"question_answer\"\n",
      "        }\n",
      "    ],\n",
      "    \"year\": 2025\n",
      "}\n"
     ]
    }
   ],
   "source": [
    "print(json.dumps(transcript, indent = 4))"
   ]
  },
  {
   "cell_type": "code",
   "execution_count": 22,
   "id": "08f61f56",
   "metadata": {},
   "outputs": [
    {
     "data": {
      "application/json": {
       "audio": "https://finnhub.io/api/redirect?urlType=transcripts-audio&id=AAPL_3413908",
       "id": "AAPL_3413908",
       "participant": [
        {
         "description": "executive",
         "name": "Suhasini Chandramouli",
         "role": "executive"
        },
        {
         "description": "executive",
         "name": "Timothy Cook",
         "role": "executive"
        },
        {
         "description": "executive",
         "name": "Kevan Parekh",
         "role": "executive"
        },
        {
         "description": "analyst",
         "name": "Erik Woodring",
         "role": "analyst"
        },
        {
         "description": "analyst",
         "name": "Benjamin Reitzes",
         "role": "analyst"
        },
        {
         "description": "analyst",
         "name": "Michael Ng",
         "role": "analyst"
        },
        {
         "description": "analyst",
         "name": "Amit Daryanani",
         "role": "analyst"
        },
        {
         "description": "analyst",
         "name": "Wamsi Mohan",
         "role": "analyst"
        },
        {
         "description": "analyst",
         "name": "Samik Chatterjee",
         "role": "analyst"
        },
        {
         "description": "analyst",
         "name": "David Vogt",
         "role": "analyst"
        },
        {
         "description": "analyst",
         "name": "Sreekrishnan Sankarnarayanan",
         "role": "analyst"
        },
        {
         "description": "analyst",
         "name": "Richard Kramer",
         "role": "analyst"
        },
        {
         "description": "analyst",
         "name": "Atif Malik",
         "role": "analyst"
        },
        {
         "description": "analyst",
         "name": "Benjamin Bollin",
         "role": "analyst"
        }
       ],
       "quarter": 1,
       "symbol": "AAPL",
       "time": "2025-01-30 22:01:00",
       "title": "AAPL - Earnings call Q1 2025",
       "transcript": [
        {
         "name": "Suhasini Chandramouli",
         "session": "management_discussion",
         "speech": [
          "Good afternoon, and welcome to the Apple Q1 Fiscal Year 2025 Earnings Conference Call. My name is Suhasini Chandramouli, Director of Investor Relations. Today's call is being recorded. Speaking first today are Apple's CEO, Tim Cook. And he'll be followed by CFO, Kevan Parekh. After that, we'll open the call to questions from analysts.\r\nPlease note that some of the information you'll hear during our discussion today will consist of forward-looking statements, including, without limitation, those regarding revenue, gross margin, operating expenses, other income and expense, taxes, capital allocation and future business outlook, including the potential impact of macroeconomic conditions on the company's business and results of operations. These statements involve risks and uncertainties that may cause actual results or trends to differ materially from our forecast. For more information, please refer to the risk factors discussed in Apple's most recently filed annual report on Form 10-K and the Form 8-K filed with the SEC today, along with the associated press release. Apple assumes no obligation to update any forward-looking statements, which speak only as of the date they are made.",
          "I'd now like to turn the call over to Tim for introductory remarks."
         ]
        },
        {
         "name": "Timothy Cook",
         "session": "management_discussion",
         "speech": [
          "Thank you, Suhasini. Good afternoon, everyone, and thanks for joining the call. Before I talk about our results, I'd like to take a moment to acknowledge the devastating wildfires that impacted the Los Angeles area this month. From our retail teams to Apple TV+, Apple Music, Fitness+, Beats and more, L.A. is home to many of our team members. Our thoughts are with everyone who is beginning the road to recovery. For our part, we are contributing to the relief efforts, and we will continue to support our teams and the local community.",
          "Now turning to the quarter. Today, Apple is reporting revenue of $124.3 billion for the December quarter, up 4% from a year ago and an all-time record. EPS also set an all-time record of $2.40, 10% higher year-over-year.",
          "We achieved all-time revenue records across the majority of the countries and regions we track, including the Americas, Europe, Japan and the rest of Asia Pacific. We also continue to see momentum in emerging markets, setting all-time revenue records in a number of markets, including Latin America, the Middle East and South Asia, among others.\r\nIn Services, we achieved an all-time revenue record. And in the past year, we've seen nearly $100 billion in revenue from our Services business. I'm also pleased to announce that we reached a new record for our installed base with over 2.35 billion active devices.\r\nIn October, we released the first set of Apple Intelligence features in U.S. English for iPhone, iPad and Mac, and we rolled out more features and expanded to more countries in December. Now users can discover the benefits of these new features in the things they do every day. They can use Writing Tools to help find just the right words, create fun and unique images with Image Playground and Genmoji, handle daily tasks and seek out information with a more natural and conversational Siri, create movies of their memories with a simple prompt and touch up their photos with Clean Up.\r\nWe introduced visual intelligence with Camera Control to help users instantly learn about their surroundings. Users can also seamlessly access ChatGPT across iOS, iPadOS and macOS. And we were excited to recently begin our international expansion with Apple Intelligence now available in Australia, Canada, New Zealand, South Africa and the U.K.",
          "We're working hard to take Apple Intelligence even further. In April, we're bringing Apple Intelligence to more languages, including French, German, Italian, Portuguese, Spanish, Japanese, Korean and simplified Chinese as well as localized English to Singapore and India. And we'll continue to roll out more features in the future, including an even more capable Siri.",
          "Apple Intelligence builds on years of innovations we've made across hardware and software to transform how users experience our products. Apple Intelligence also empowers users by delivering personal context that's relevant to them. And importantly, Apple Intelligence is a breakthrough for privacy in AI with innovations like Private Cloud Compute, which extends the industry-leading security and privacy of Apple devices into the cloud.",
          "Apple Intelligence opens up an exciting new frontier and is already elevating experiences across iPhone, iPad and Mac. We're going to keep investing in innovation and in transformative tools that help users in their everyday lives.\r\nLet me now turn to our results for the quarter, starting with iPhone. iPhone revenue came in at $69.1 billion, reaching all-time iPhone revenue records in dozens of markets and regions. Our iPhone 16 lineup takes the smartphone experience to the next level in so many ways, and Apple Intelligence is one of many reasons why customers are excited. With the A18-powered iPhone 16 and iPhone 16 Plus, users are getting a big boost in battery life and incredible camera experiences with Camera Control. Our amazingly powerful iPhone 16 Pro models go even further with larger-than-ever displays and a Pro camera system so advanced it can turn moments into masterpieces.",
          "In Mac, revenue was $9 billion for the December quarter, 16% higher year-over-year, driven by significant excitement around the world for our latest Mac lineup. The Mac is more than just a powerful tool. It's a launchpad to enable users to bring their best ideas and boldest creations to life. And there are so many reasons to choose Mac, from the breathtaking performance of the M4 family of chips to the groundbreaking and growing capabilities of Apple Intelligence.\r\nEvery product in the Mac lineup offers something extraordinary, whether that's the super portable MacBook Air, the powerhouse MacBook Pro, the world's best all-in-one iMac or the small wonder that is the Mac mini, which is not only stunningly capable but is our first carbon-neutral Mac. All of this is enabled by the unparalleled power of Apple silicon.\r\niPad revenue was $8.1 billion, up 15% from a year ago, driven by strong interest for our latest products. We love hearing from customers who are discovering for the first time the versatility of iPad, from the ultra-portable iPad mini built from the ground up for Apple Intelligence to the powerful M4 iPad Pro in a stunningly thin and light design. iPad is there for users whenever they need it and wherever they go, and we are pleased to see so much excitement and enthusiasm for our lineup.\r\nWearables, Home and Accessories revenue came in at $11.7 billion. With its most advanced display yet and a thinner, more comfortable design, the all-new Apple Watch Series 10 is the perfect companion to help users pursue their health and fitness goals this year. From the powerful Vitals app to more customizable Activity rings, users have an ever-increasing set of innovative health tools at their fingertips in watchOS 11.\r\nHealth innovation has long been a focus for us, and we're committed to continuing to advance this work because we know how much it matters to our users. We've introduced new hearing health features on AirPods Pro 2, and new sleep apnea notifications on Apple Watch are also helping users learn of a potentially serious condition that's thought to affect up to 1 billion people worldwide.\r\nDuring the quarter, we also brought Apple Vision Pro to even more countries, enabling more customers to discover the magic of spatial computing. Users are enjoying incredible immersive entertainment experiences and powerful new features and enhancements to Mac virtual display. Vision Pro is also supercharging the creative process and the incredibly talented director, Jon M. Chu, recently shared how its extraordinary capabilities helped him bring the movie Wicked to life.\r\nTurning to Services. We set an all-time revenue record of $26.3 billion for the December quarter, growing 14% from a year ago. We set all-time records in the Americas, Europe and rest of Asia Pacific and a December quarter record in Japan.",
          "Five years since launch, Apple TV+ continues to be home to incredible storytelling that viewers love. There's nothing quite like the anticipation that comes when a fan favorite returns, and we were thrilled to debut the second season of Severance earlier this month. We have so much in store for our subscribers this year with new shows like The Studio and Your Friends & Neighbors. And we can't wait for the premier of Formula 1 starring Brad Pitt on June 27, which will take viewers inside the sport in a truly unprecedented way. We're excited that Apple TV+ continues to draw attention and accolades. To date, Apple TV+ productions have earned more than 2,500 nominations and 538 wins.",
          "During the quarter, we were also excited to launch a new Find My service that can help our users when they lose their luggage. For the first time, if you put an AirTag in your suitcase, you'll be able to share its location information with many major airlines so they can quickly track down your bags if they get lost.\r\nTurning to retail. Our teams went above and beyond to help customers find the perfect gift throughout the holiday season. We also celebrated openings of new stores in China, Spain and the U.S. And we were excited to announce plans to connect with even more customers this year by adding a fifth store in the UAE and bringing our online store to Saudi Arabia this summer. We can't wait to welcome customers to the first of several flagship store locations in Saudi Arabia that we're opening beginning in 2026. I just had the chance to visit both countries last month, and I had a great time meeting with customers and team members. There's an incredible energy and passion for technology in these growing markets.\r\nEvery day I get deeply moving notes about the many ways our technology is enriching our users' lives. I recently got a note from a customer who put his watch on his father's wrist when he feared something was wrong with him. The watch alerted them that the father was in AFib, and they were able to get him to the hospital for potentially life-saving treatment. Another user put his new watch on for the first time and, within 15 minutes, was notified of a low heart rate that led to a necessary pacemaker. And there are so many touching notes around the profound impact of our new hearing health feature like a recent user who told me it had changed her life, allowing her to take part in conversations with her children and grandchildren. These are the kind of stories that remind us of how profoundly important our work is, and it drives us to innovate each and every day.",
          "At Apple, the future is full of promise and potential. We're always searching across a world of possibilities, finding those places where we can do the most good and putting all of our energy and ingenuity into making something special.\r\nWith that, I'll turn it over to Kevan."
         ]
        },
        {
         "name": "Kevan Parekh",
         "session": "management_discussion",
         "speech": [
          "Thanks, Tim, and good afternoon, everyone. I'm going to cover the results for the first quarter of our fiscal year.\r\nWe are very pleased to report an all-time high for revenue with December quarter revenue of $124.3 billion, up 4% year-over-year. We achieved all-time revenue records in the Americas, Europe, Japan and rest of Asia Pacific and grew in the vast majority of markets we track. Products revenue was $98 billion, up 2% year-over-year, driven by growth from iPad and Mac. Thanks to our incredible customer satisfaction and strong loyalty, our installed base of active devices reached an all-time high across all products and geographic segments and is now over 2.35 billion active devices. Services revenue reached an all-time record of $26.3 billion, up 14% year-over-year. We grew in every geographic segment and achieved all-time records in both developed and emerging markets.\r\nCompany gross margin was 46.9%, at the high end of our guidance range and up 70 basis points sequentially, primarily driven by favorable mix. Products gross margin was 39.3%, up 300 basis points sequentially, primarily driven by favorable mix and leverage. Services gross margin was 75%, up 100 basis points sequentially, primarily driven by mix.\r\nOperating expenses of $15.4 billion landed at the midpoint of our guidance range and up 7% year-over-year. This strong business performance resulted in all-time records for both net income at $36.3 billion and diluted earnings per share of $2.40, up 10% year-over-year. Operating cash flow was also strong at $29.9 billion, which included the impact of the $11.9 billion we paid during the quarter in connection with the State Aid decision.\r\nNow I'm going to provide some more details for each of our revenue categories. iPhone revenue was $69.1 billion, roughly flat to the prior year. We grew in the majority of markets we track and reached all-time revenue records in several developed markets, including Canada, Western Europe and Japan, and in emerging markets like Latin America, the Middle East and South Asia.",
          "The iPhone active installed base grew to an all-time high in total and in every geographic segment. We also set an all-time record for upgraders. According to a recent survey from Kantar during the December quarter, iPhone was a top-selling model in the U.S., urban China, India, the U.K., France, Australia and Japan. We continue to see high levels of customer satisfaction in the U.S. at 96%, as measured by 451 Research.",
          "Mac generated $9 billion in revenue, up 16% year-over-year. We saw strength across our lineup, from the new Mac mini to the latest MacBook Air and MacBook Pro models. This incredible performance was broad based with double-digit growth in every geographic segment. With our latest advances in Apple silicon and our fastest neural engine ever, customers are able to take advantage of the full capabilities of AI and Mac.",
          "The Mac installed base reached an all-time high, and we saw double-digit growth for both upgraders and customers new to the Mac. Additionally, customer satisfaction in the U.S. was recently measured at 94%.\r\niPad revenue was $8.1 billion, up 15% year-over-year, driven by the new iPad mini and latest iPad Air. The iPad installed base reached another all-time high, and over half of the customers who purchased an iPad during the quarter were new to the product. Customer satisfaction was at 96% in the U.S. based on the latest reports from 451 Research.\r\nWearables, Home and Accessories revenue was $11.7 billion, down 2% year-over-year. Customers are excited about the new AirPods 4 and the latest hearing health features in AirPods Pro 2. On Watch, although we face a difficult compare against the Watch Ultra 2 launched last year, the Apple Watch installed base reached a new all-time high with over half of customers purchasing an Apple Watch during the quarter being new to the product. Customer satisfaction for Watch in the U.S. was reported at 94%.\r\nOur Services revenue reached an all-time high of $26.3 billion, up 14% year-over-year. Services continues to see strong momentum, and the growth of our installed base of active devices gives us great opportunities for the future. We also see increased customer engagement with our Services offerings. Both transacting and paid accounts reached new all-time highs with paid accounts growing double digits year-over-year.",
          "Paid subscriptions also grew double digits. We have well over 1 billion paid subscriptions across the services on our platform. We remain focused on improving the breadth and quality of our services offerings, from new games in Apple Arcade to exciting new programming on Fitness+ and the continued expansion of features like Tap to Pay now live in 20 markets.",
          "Turning to enterprise. We have seen businesses continue to expand their deployments of our products and services. Deutsche Bank launched its Mac as Choice program for their developers and also issued the latest MacBook Air as a standard computer for their entire mortgage lending division. And we're excited to see leading enterprises such as SAP leverage Apple Intelligence in the U.S. with features like Writing Tools, summarize and priority notifications to enhance both their employee and customer experiences.\r\nWe also see strong demand in our emerging markets. For example, Zomato, a leading food ordering and delivery company in India, has deployed thousands of Macs across their workforce to foster innovation. And Vision Pro continues to see more use cases in enterprise with Cisco's new spatial meetings delivering a fully immersive video conferencing experience for remote collaboration and learning.\r\nLet me quickly summarize our cash position and capital return program. We ended the quarter with $141 billion in cash and marketable securities. We repaid $1 billion in maturing debt and decreased commercial paper by $8 billion, resulting in $97 billion in total debt. Therefore, net cash at the end of the quarter was $45 billion.\r\nDuring the quarter, we returned over $30 billion to shareholders. This included $3.9 billion in dividends and equivalents and $23.3 billion through open market repurchases of 100 million Apple shares. As usual, we will provide an update to our capital return program when we report results for the March quarter.\r\nAs we move ahead into the March quarter, I'd like to review our outlook, which includes the types of forward-looking information that Suhasini referred to at the beginning of the call. The color we're providing today assumes that the macroeconomic outlook doesn't worsen from what we're projecting today for the current quarter.\r\nAs the dollar strengthened significantly, we expect foreign exchange to be a headwind and to have a negative impact on revenue of about 2.5 percentage points on a year-over-year basis. Despite that headwind, we expect our March quarter total company revenue to grow low to mid-single digits year-over-year. We expect Services revenue to grow low double digits year-over-year. When you remove the negative impact of the foreign exchange headwinds I described earlier, the year-over-year growth rate would be comparable to that of the December quarter.\r\nWe expect gross margin to be between 46.5% and 47.5%. We expect operating expenses to be between $15.1 billion and $15.3 billion. We expect OI&E to be around negative $300 million, excluding any potential impact from the mark-to-market of minority investments, and our tax rate to be around 16%.\r\nFinally, today, our Board of Directors has declared a cash dividend of $0.25 per share of common stock payable on February 13, 2025, to shareholders of record as of February 10, 2025.\r\nWith that, let's open the call to questions."
         ]
        },
        {
         "name": "Suhasini Chandramouli",
         "session": "management_discussion",
         "speech": [
          "Thank you, Kevan. We ask that you limit yourself to 2 questions. Operator, may we have the first question, please?"
         ]
        },
        {
         "name": "Operator",
         "session": "management_discussion",
         "speech": [
          "Certainly. We will go ahead and take our first question from Erik Woodring with Morgan Stanley."
         ]
        },
        {
         "name": "Erik Woodring",
         "session": "question_answer",
         "speech": [
          "Tim, in your prepared remarks, you had noted that iPhone 16 models are selling better in markets where Apple Intelligence is available. And I was just wondering if you could double-click on that comment a bit and share any other details you believe could better help us understand how Apple Intelligence is really impacting iPhone demand and/or what features you find that users are using most often already. And then I just have a quick follow-up."
         ]
        },
        {
         "name": "Timothy Cook",
         "session": "question_answer",
         "speech": [
          "Yes, Erik. It's Tim. We did see that the markets where we had rolled out Apple Intelligence, that the year-over-year performance on the iPhone 16 family was stronger than those where Apple Intelligence was not available. In terms of the features that people are using, they're using all of the ones that I had referenced in my opening comments, from Writing Tools to Image Playground and Genmoji, to visual intelligence and more. And so we see all of those being used. Clean Up is another one that is popular, and people love seeing that one demoed in the stores as well.",
          "We only had 2, 2.5 weeks or so during the December quarter of the second release of 18.2 and then only had the U.K. and the other English language countries for the 2.5 weeks. And so we've got just the early indications at the moment. But we were glad..."
         ]
        },
        {
         "name": "Erik Woodring",
         "session": "question_answer",
         "speech": [
          "That's really helpful. And then if we just touch on China, obviously, in the news fairly frequently. If we set aside China macro, which I understand is still challenging, can you maybe talk about the headwinds that Apple faces, whether that's shifting preferences for Western technology brands in favor of domestic vendors? Or is this just a function of not necessarily having Apple Intelligence available with the iPhone 16, which is not necessarily helping replacement cycles? Just maybe double-clicking on what you think and what you're hearing in China as a regard -- as it relates to the iPhone."
         ]
        },
        {
         "name": "Timothy Cook",
         "session": "question_answer",
         "speech": [
          "Yes, sure. If you look at our Greater China revenue for the quarter, we were down 11% year-over-year. And over half of the decline that we experienced was driven by change in channel inventory from the beginning to the end of the quarter. And of course, on the Apple Intelligence side, we have not rolled out in China. And as we just talked about, we did see better results in the markets that we had rolled out in than markets we hadn't rolled out in. And of course, it's the most competitive market in the world. And so all of those things are true.\r\nIn terms of the macro situation, there was a fiscal stimulus or subsidy announced in -- very recently in January that did not affect the December quarter. There were some provincial subsidies in the December quarter, but the national program was announced, I believe, on January 20. And it does cover the categories that we have products in, from smartphones to tablets and PCs and smartwatches, up to a certain maximum price point. And so we do see fiscal stimulus occurring, and we'll be glad to talk about what that looks like on the next call."
         ]
        },
        {
         "name": "Operator",
         "session": "question_answer",
         "speech": [
          "Our next question is from Ben Reitzes with Melius."
         ]
        },
        {
         "name": "Benjamin Reitzes",
         "session": "question_answer",
         "speech": [
          "Tim, wanted to ask you. You knew this one was coming, but there's a perception that you're a big beneficiary of lower cost of compute. And I was wondering if you could give your worldly perspective here on the DeepSeek situation and if you are going to -- if you -- if anything has happened to change your views in terms of a tailwind to margins and your ability to execute even due to the potential for cost to come down due to that development and probably what was going to happen anyway. But I'd love your perspective on that, and then I have a quick follow-up."
         ]
        },
        {
         "name": "Timothy Cook",
         "session": "question_answer",
         "speech": [
          "Sure. In general, I think innovation that drives efficiency is a good thing. And that's what you see in that model. Our tight integration of silicon and software, I think, will continue to serve us very well. As you know, we do things on the device and we do things in the private cloud, and -- which mimics from an architectural point of view what happens on device. And from a CapEx point of view, we've always taken a very prudent and deliberate approach to our expenditure, and we continue to leverage a hybrid model, which I think continues to serve us well."
         ]
        },
        {
         "name": "Benjamin Reitzes",
         "session": "question_answer",
         "speech": [
          "Great. All right. And then just with regard to the iPhone trajectory, do you feel like, I guess, what -- you obviously don't talk about new products and stuff like that, but do you feel that there's a lot of room for form factor innovation in the future? Or do you feel that the current lineup kind of shows where you're going? I guess without pulling punches, wondering if you thought, in terms of the phone innovation, if there's a lot more to come and you could see the kind of current market changing a bit over the next 2 to 3 years."
         ]
        },
        {
         "name": "Timothy Cook",
         "session": "question_answer",
         "speech": [
          "I think -- Ben, I think there's a lot more to come, and I could not feel more optimistic about our product pipeline. So I think there's a lot of innovation left on the smartphone."
         ]
        },
        {
         "name": "Operator",
         "session": "question_answer",
         "speech": [
          "Our next question is from Michael Ng with Goldman Sachs."
         ]
        },
        {
         "name": "Michael Ng",
         "session": "question_answer",
         "speech": [
          "I have 2 as well. First, it was encouraging to hear about the record for iPhone upgraders, which I think is something you haven't said for about a year now. I was wondering if you could talk a little bit about what you would attribute this upgrade strength to. Has Apple Intelligence played a role in helping upgrades in the markets that you've launched in?"
         ]
        },
        {
         "name": "Timothy Cook",
         "session": "question_answer",
         "speech": [
          "Yes. Thank you for the question. If you look at iPhone, we did set an all-time record for upgraders. So we've never seen a higher level of upgraders before. The installed base hit a new all-time high as well. And if you look at the 16 compared to the 15, from launch, which occurred, as you know, in September, so this is across now 2 quarters from September to the end of the December fiscal quarter, the 16 outperformed the 15. And so I think you can conclude from that, that there are compelling reasons to upgrade. And in the markets where we had launched Apple Intelligence, they outperformed the markets that we did not. So lots of good color there."
         ]
        },
        {
         "name": "Michael Ng",
         "session": "question_answer",
         "speech": [
          "Great. That's very clear. And then I had one about the iPad Pro M4, the thinner version. I was just wondering if you could talk about that thin form factor for the iPad Pro. How did it help iPad sales overall? And what does your kind of marketing consumer research tell you about how consumers value that thin product form factor?"
         ]
        },
        {
         "name": "Timothy Cook",
         "session": "question_answer",
         "speech": [
          "It's a good question. iPad overall grew 15% for the quarter, and it was more driven by iPad Air and the entry-level iPad than it was the top-level iPad. But overall, we could not be more pleased with the iPad category growing 15%. It's a great achievement for the quarter. And probably what is most important is that over half of the sales in the December quarter went to customers who were new to the iPad. So that tells us that there's a good amount of customers there to attract."
         ]
        },
        {
         "name": "Operator",
         "session": "question_answer",
         "speech": [
          "Our next question is from Amit Daryanani from Evercore."
         ]
        },
        {
         "name": "Amit Daryanani",
         "session": "question_answer",
         "speech": [
          "Just maybe to start with, you're also seeing some very robust growth trends in emerging markets right now for Apple products. Can you just -- at a high level, just talk to the durability of growth that you see in the emerging markets? And then do you think the summation of these emerging markets are starting to get big enough or perhaps starting to grow fast enough that you can actually offset some of the China headwinds you're going through?"
         ]
        },
        {
         "name": "Timothy Cook",
         "session": "question_answer",
         "speech": [
          "We have great results in a number of emerging markets. And as you know from past calls, I'm particularly keen on India. India set a December quarter record during the quarter. And we're opening more stores there. We've announced that we're going to open 4 new stores there. We also -- the iPhone was the top-selling model in India for the quarter. And it is the second largest smartphone market in the world and the third largest for PCs and tablets. And so there's a huge market. And we are -- we have very modest share in these markets. And so I think there's lots of upside there. And that's just one of the emerging markets."
         ]
        },
        {
         "name": "Kevan Parekh",
         "session": "question_answer",
         "speech": [
          "Tim, maybe I'll add, Amit, that in emerging markets, we're also seeing double-digit growth on the installed base both in total and for the iPhone as well. So that's also an encouraging sign."
         ]
        },
        {
         "name": "Amit Daryanani",
         "session": "question_answer",
         "speech": [
          "Perfect. And then I guess just a question on gross margins for the March quarter. You folks are guiding gross margins flattish on a sequential basis. Typically, I think it tends to be guided up a little bit, 50 basis points or so sequentially. Can you just touch on like what are the offsets, the puts and takes you see here on gross margins? And Kevan, maybe you can just talk about is FX having an outsized impact on your margin profile as well in March."
         ]
        },
        {
         "name": "Kevan Parekh",
         "session": "question_answer",
         "speech": [
          "Yes, Amit, let me take that one. As we mentioned in my remarks, we're guiding to 46.5% to 47.5%. So we think it's -- we're very pleased with that level of guidance. As you mentioned, there's always puts and takes. We do think there's going to be some FX headwinds, which we talked about, that's going to affect our revenue growth as well. It'll have an impact here on the margin, a sequential impact on margins.",
          "But we think that's going to be offset by favorable costs and the relative mix of services. We also -- as you know, when we move from Q1 to Q2, especially on the product side, because Q1 is such a large quarter for our products business, we do have a loss of leverage. So there are some puts and takes. And I think we feel good about the range. We think it's a very, very strong guide for gross margin."
         ]
        },
        {
         "name": "Operator",
         "session": "question_answer",
         "speech": [
          "Our next question is from Wamsi Mohan with Bank of America."
         ]
        },
        {
         "name": "Wamsi Mohan",
         "session": "question_answer",
         "speech": [
          "Tim, I want to follow up on your comment about channel inventory in China. I was wondering if you could maybe address more broadly channel inventory across your different product lines and regions. Do you feel they are elevated or out of range in any other regions? And given the clearing event that kind of happened in China, I guess, in the quarter, should we think of a more normal progression quarter-on-quarter into the March quarter in China in particular? And I have a follow-up."
         ]
        },
        {
         "name": "Timothy Cook",
         "session": "question_answer",
         "speech": [
          "Yes. I don't want to project sales for the current quarter by region. But if you look at the channel inventory and look at iPhone in the aggregate, so on a worldwide basis, we're very comfortable with our channel inventory position. In the -- in China, my point was that our channel inventory reduced from the beginning of the quarter to the end of the quarter, and that was over half of the reduction in the reported results. And so if you look -- part of the reason for that is that our sales were a bit higher than we forecasted them to be toward the end of the quarter. And so we ended a little leaner than we had expected to."
         ]
        },
        {
         "name": "Wamsi Mohan",
         "session": "question_answer",
         "speech": [
          "Okay. That's very clear. And then maybe as my follow-up, your Services growth has been very strong, and I know you've kind of been navigating some pretty challenging regulatory burdens on the business globally. So how should investors think about maybe either a top line or a margin headwind that, let's say, you are currently absorbing in your results that could potentially maybe reverse in a more balanced regulatory environment?"
         ]
        },
        {
         "name": "Kevan Parekh",
         "session": "question_answer",
         "speech": [
          "Yes. So I think, one, I just wanted to kind of reiterate the fact that our Services business had an all-time record for December quarter, up 14%. And that was a -- one strength that we saw across all geographic segments and also was very broad based across all of our services. So we have, as you know, a very broad Services portfolio. And so we do see good momentum across the board. And as well, we continue to see increasing engagement across the customer base, across all of the service offerings, both transacting and paid accounts. We talked about reaching all-time highs. And we have over now 1 billion paid subscriptions across the Services platform."
         ]
        },
        {
         "name": "Operator",
         "session": "question_answer",
         "speech": [
          "Our next question is from Samik Chatterjee with JPMorgan."
         ]
        },
        {
         "name": "Samik Chatterjee",
         "session": "question_answer",
         "speech": [
          "I guess for the first one, if I -- I mean, you had a great quarter on Macs and iPads both. And I'm just curious in terms of if you can help us think about the sustainability of this double-digit growth that you saw in both the product lines. And more interested to also hear, we are talking about Apple Intelligence sort of influencing volumes on iPhones, but any thoughts on sort of how -- what does that influence look like in terms of volumes for Macs, for example, where I think there's a lot of conversation around AI PCs, how you're thinking about the impact there? And I have a quick follow-up."
         ]
        },
        {
         "name": "Timothy Cook",
         "session": "question_answer",
         "speech": [
          "Yes. If you look at Mac, Mac was up 16%. And on iPad, we were up 15%. The Mac was driven by the very strong uptake on our new products during the quarter and the continued success of the MacBook Air. And so as you know, we've launched an M4-based MacBook Pro, an iMac and a Mac mini during the quarter. We believe we've got the best AI PC out there for running workloads. The silicon in the Mac is, and it has been for several years now, designed by us and really designed for these workloads. And so I don't want to project at the category level for the future, but we're incredibly pleased with both the Mac and the iPad for the quarter."
         ]
        },
        {
         "name": "Samik Chatterjee",
         "session": "question_answer",
         "speech": [
          "Okay. And Tim, I'm going to use your earlier discussion about India as a strong emerging market to sort of ask you about the supply chain planning there in terms of how much of the supply chain planning there that you're doing is more of a reflection of the growth expectations from that market relative to -- in terms of diversification of the supply chain. And how should we sort of think about that strategy related to that particular country?"
         ]
        },
        {
         "name": "Timothy Cook",
         "session": "question_answer",
         "speech": [
          "Yes. If you look at the manufacturing we do there, we do manufacturing both for the domestic market and we export. And so in -- our business needs a certain economies of scale for it to make sense to manufacture in country. And so that really means that we're going to be both a use for the domestic market and an export market."
         ]
        },
        {
         "name": "Operator",
         "session": "question_answer",
         "speech": [
          "Our next question is from David Vogt with UBS."
         ]
        },
        {
         "name": "David Vogt",
         "session": "question_answer",
         "speech": [
          "So maybe, Tim, this is for you. I'm trying to think about your commentary around Apple Intelligence being sort of a momentum driver for the iPhone business. But when I think about your kind of framework for the March quarter, if I kind of adjust for channel inventory over the last couple of years, kind of feels like your iPhone revenue for the March quarter is going to be relatively similar to the quarter 2 years ago and even the quarter last year. So how do we square kind of the momentum versus kind of the iPhone business effectively really kind of unchanged over the last couple of years?",
          "And then second, when I think about kind of the gross margin profile of the business, obviously, you've done a great job in taking gross margins up. Where do you think we sit in terms of, on the services side at least, where margins could go? It looks like the 75% margin has been incredibly successful quarter. But just trying to get a sense for where do you think this number could go over the intermediate term."
         ]
        },
        {
         "name": "Timothy Cook",
         "session": "question_answer",
         "speech": [
          "Yes. If you look at Apple Intelligence, what my point earlier was that markets where we had rolled out Apple Intelligence during the Q1 period performed better on a year-over-year basis than markets where we had not. And so that gives us -- it's a positive indicator that we were pleased with. There are many compelling reasons to upgrade.",
          "And the other thing I would say that I think I mentioned earlier is that if you look at it from a launch to the end of the December quarter, and so that goes back to September, the 16 family is outperforming the 15 family. And so I think those are 2 good data points. Our next round of language rollouts will be in April. And so it will be at the -- in our Q3 quarter. And I'll let Kevan take the gross margin question."
         ]
        },
        {
         "name": "Kevan Parekh",
         "session": "question_answer",
         "speech": [
          "So on the Services gross margin, I think maybe just stepping back a second. Services business in general is -- in aggregate is accretive to the overall company margin. And one of the things, as an important reminder, is we've got a very broad Services portfolio. And those businesses have very different margin profiles. And so I think, one, it's because of the nature of those businesses and in part also because of the way we account for them. And so one of the big factors that drive the Services gross margins is relative performance of those different businesses within the portfolio.",
          "We also have the dynamic of some scale businesses like payment services, iCloud, that are actually growing. And there, when we add incremental users, those end up being accretive to margins as well. And so in general, what we saw in the December quarter was nice momentum across our entire Services business that allows us to deliver that 75% margin at the Services level. And I think our guidance takes into consideration where we think we're going to land from a company standpoint of 46.5% to 47.5%, which again, we think is a strong guide."
         ]
        },
        {
         "name": "Operator",
         "session": "question_answer",
         "speech": [
          "Our next question is from Krish Sankar with TD Cowen."
         ]
        },
        {
         "name": "Sreekrishnan Sankarnarayanan",
         "session": "question_answer",
         "speech": [
          "I also had 2 of them. One, the first one for Tim. You had very strong Mac growth, 16% year-over-year last quarter. Just wondering, how much of that was driven by some of the Mac silicon innovation versus a replacement cycle for Macs?"
         ]
        },
        {
         "name": "Timothy Cook",
         "session": "question_answer",
         "speech": [
          "I don't know the answer to your question precisely, but I think it is a combination of these products are so compelling, the M4-based products are so compelling that it's driving both upgrades at the double-digit level and it's driving switchers at a double-digit level. And so we're seeing both come out, and I think it's just because of the compelling products."
         ]
        },
        {
         "name": "Sreekrishnan Sankarnarayanan",
         "session": "question_answer",
         "speech": [
          "Got it. Got it. And then a follow-up for Kevan on the gross margin. I want to ask you more on the product side. Last quarter, you had 39.3%, which is very strong, similar to a year ago period. I'm kind of curious, how much more levels do you have on the product side to improve the gross margin? Or do you think with some of the more new AI-related devices, there's more upside to gross margin from here on the product hardware side?"
         ]
        },
        {
         "name": "Kevan Parekh",
         "session": "question_answer",
         "speech": [
          "Yes. Thanks, Krish, for the question. So on the product side, as you mentioned, we had pretty strong sequential improvement, 300 basis points for the December quarter. That was really driven by, we talked about, favorable mix and leverage. As you know, in Q1, again, it's a launch quarter for many products, and so we tend to benefit from the leverage that we get from that higher volume.\r\nI would say, in general, our gross margin on products is driven by a number of factors. One of them is the various product launches that we have. Different products do have different margin profiles. And so that mix does make a difference. And in particular, what we're seeing is, for example, many of our mixes across like phone, for example, we're seeing customers gravitate towards our Pro products because of things like affordability that allows our customers to get into our best products, which have favorable gross margins. So we're continuing to see that trend. That impacted us in the December quarter.",
          "As well, I think we're in a favorable commodity environment from a cost standpoint. And so we're benefiting from that as well in the December quarter. And then that's going to be, as we talked about, we're going to have a foreign exchange headwind heading into the March quarter. But we figured -- that's contemplated in the guidance range that we gave, the 46.5% to 47.5%."
         ]
        },
        {
         "name": "Operator",
         "session": "question_answer",
         "speech": [
          "Our next question is from Richard Kramer with Arete Research."
         ]
        },
        {
         "name": "Richard Kramer",
         "session": "question_answer",
         "speech": [
          "My first question is for Tim. I'd like to ask about what might accelerate the pace of Apple Intelligence adoption. I guess do you see this simply as a question of time, i.e., to launch more markets and languages or increase the percentage of installed base devices that can support it? Or is it a question of money, i.e., shifting R&D or marketing spend towards AI? And based on other prior Apple services, do you expect a sort of tipping point where adoption will go mainstream?"
         ]
        },
        {
         "name": "Timothy Cook",
         "session": "question_answer",
         "speech": [
          "I do believe it will go mainstream. I'm getting feedback from people using different features today. And this is -- keep in mind that on the iPhone side of our business, you either have to have an iPhone 15 Pro or iPhone 16 to use Apple Intelligence. And so the -- as that base grows, I think the usage will continue to grow. And I think -- I know from my own personal experience, once you start using the features, you can't imagine not using them anymore. I know I get hundreds of e-mails a day, and the summarization function is so important. So I think it's a combination of that. And of course, in April, we roll out a whole series of new languages that we had mentioned, and so the base grows further."
         ]
        },
        {
         "name": "Richard Kramer",
         "session": "question_answer",
         "speech": [
          "Okay. And then, Kevan, one of Luca's legacies was really getting Apple to record margin levels and also maintaining very consistent pricing across the product range. But taking the current high levels of profitability as fairly stable, what observations might you share about price sensitivity of users and whether having a wider range of pricing across the products might unlock potentially further market share gains or boost overall product growth?"
         ]
        },
        {
         "name": "Kevan Parekh",
         "session": "question_answer",
         "speech": [
          "Yes, it's a good question. I think, one, I don't think we're going to really depart from what served us pretty well to now. I mean we always take it into consideration, looking at short term -- comparison between the short term and the long term. I think we've had a pretty disciplined pricing strategy, which served us pretty well. And I think we're going to continually kind of stick with that as far as I can tell."
         ]
        },
        {
         "name": "Operator",
         "session": "question_answer",
         "speech": [
          "Our next question is from Atif Malik with Citi."
         ]
        },
        {
         "name": "Atif Malik",
         "session": "question_answer",
         "speech": [
          "How do you guys see the potential tariff impact to your product or consumer demand under Trump 2.0? You guys did fine under Trump 1.0."
         ]
        },
        {
         "name": "Timothy Cook",
         "session": "question_answer",
         "speech": [
          "We are monitoring the situation and don't have anything more to add than that."
         ]
        },
        {
         "name": "Atif Malik",
         "session": "question_answer",
         "speech": [
          "Great. And Tim, as a follow-up, there is a lot of discussion on agentic AI, the use of agents. Do you guys see the upgraded Siri expected in April as something that will, let's say, be the killer application among the suite of features that you have announced in Apple Intelligence?"
         ]
        },
        {
         "name": "Timothy Cook",
         "session": "question_answer",
         "speech": [
          "I think the killer feature is different for different people. But I think for most, they're going to find that they're going to use many of the features every day. And certainly, one of those is the -- is Siri, and that will be coming over the next several months."
         ]
        },
        {
         "name": "Suhasini Chandramouli",
         "session": "question_answer",
         "speech": [
          "All right. Thank you, Atif. Operator, could we please get the last question?"
         ]
        },
        {
         "name": "Operator",
         "session": "question_answer",
         "speech": [
          "Our last question is from Ben Bollin from Cleveland Research Company."
         ]
        },
        {
         "name": "Benjamin Bollin",
         "session": "question_answer",
         "speech": [
          "Tim, I'm interested in your thoughts and how you would have us think about the average useful life of these devices in the wild. And in particular, curious if you look at the strength you saw in fiscal '21 and how that might support accelerated refresh opportunity into the future."
         ]
        },
        {
         "name": "Timothy Cook",
         "session": "question_answer",
         "speech": [
          "Yes. Ben, I think it's different for different types of users. I mean you have very early adopter kind of users that are very quick to jump on the latest technology that upgrade very frequently. And then you have people that are on the entire opposite side of that barbell. And most people are between those 2 points. And so I do think there were lots of units that are sold during the COVID period of time, and it's a huge opportunity for us as a company to -- for more than one of the product categories."
         ]
        },
        {
         "name": "Suhasini Chandramouli",
         "session": "question_answer",
         "speech": [
          "All right. Thanks, Ben. I think that's it. A replay of today's call will be available for 2 weeks on Apple Podcasts or as a webcast on apple.com/investor and via telephone. The number for the telephone replay is (866) 583-1035. Please enter confirmation code 7398532 followed by the pound sign. These replays will be available by approximately 5 p.m. at Pacific Time today. Members of the press with additional questions can contact Josh Rosenstock at (408) 862-1142. And financial analysts can contact me, Suhasini Chandramouli, with additional questions at (408) 974-3123. Thanks again for joining us here today."
         ]
        },
        {
         "name": "Operator",
         "session": "question_answer",
         "speech": [
          "Once again, this does conclude today's conference. We do appreciate your participation."
         ]
        }
       ],
       "year": 2025
      },
      "text/plain": [
       "<IPython.core.display.JSON object>"
      ]
     },
     "execution_count": 22,
     "metadata": {
      "application/json": {
       "expanded": false,
       "root": "root"
      }
     },
     "output_type": "execute_result"
    }
   ],
   "source": [
    "# collecting ids from transcript metadata\n",
    "transcript_ids = transcript_metadata['id']\n",
    "\n",
    "#\n",
    "transcripts = {}\n",
    "\n",
    "for transcript_id in transcript_ids\n",
    "    "
   ]
  },
  {
   "cell_type": "code",
   "execution_count": null,
   "id": "fa11b9e4",
   "metadata": {},
   "outputs": [],
   "source": []
  }
 ],
 "metadata": {
  "kernelspec": {
   "display_name": "Python 3 (ipykernel)",
   "language": "python",
   "name": "python3"
  },
  "language_info": {
   "codemirror_mode": {
    "name": "ipython",
    "version": 3
   },
   "file_extension": ".py",
   "mimetype": "text/x-python",
   "name": "python",
   "nbconvert_exporter": "python",
   "pygments_lexer": "ipython3",
   "version": "3.11.5"
  }
 },
 "nbformat": 4,
 "nbformat_minor": 5
}
